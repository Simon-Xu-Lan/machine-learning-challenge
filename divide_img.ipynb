{
 "cells": [
  {
   "cell_type": "markdown",
   "id": "61b242c6",
   "metadata": {},
   "source": [
    "# Dependencies"
   ]
  },
  {
   "cell_type": "code",
   "execution_count": 8,
   "id": "e0b7672a",
   "metadata": {},
   "outputs": [],
   "source": [
    "import numpy as np\n",
    "import tensorflow as tf\n",
    "import matplotlib.pyplot as plt"
   ]
  },
  {
   "cell_type": "markdown",
   "id": "fde38361",
   "metadata": {},
   "source": [
    "# Load SVC model"
   ]
  },
  {
   "cell_type": "code",
   "execution_count": 2,
   "id": "b94932ea",
   "metadata": {},
   "outputs": [],
   "source": [
    "import pickle\n",
    "with open('svc_model.sav','rb') as f: \n",
    "    svc_model=pickle.load(f)"
   ]
  },
  {
   "cell_type": "markdown",
   "id": "76ab3008",
   "metadata": {},
   "source": [
    "# dataURL"
   ]
  },
  {
   "cell_type": "code",
   "execution_count": 3,
   "id": "2327baa0",
   "metadata": {},
   "outputs": [],
   "source": [
    "dataURL = \"data:image/png;base64,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\""
   ]
  },
  {
   "cell_type": "code",
   "execution_count": 4,
   "id": "a88f4706",
   "metadata": {},
   "outputs": [
    {
     "data": {
      "text/plain": [
       "'data:image/png;base64,iVBORw0KGgoAAAANSUhEUgAAAZAAAAGQCAYAAACAvzbMAAAX0UlEQVR4Xu3dva4cxdYG4LFBtkMkAiQEAhETEBGRcReE5EQE3AMBESkh10FEQITEDSAQfwESqQGx/Wl8vm1vb+/t6X6nVk1Vz3NSenVXPbWq3ukZ2+fOo0ePHu38jwABAgQIrBS4I0BWirmcAAECBB4LCBCNQIAAAQKRgACJ2BQRIECAgADRAwQIECAQCQiQiE0RAQIECAgQPUCAAAECkYAAidgUESBAgIAA0QMECBAgEAkIkIhNEQECBAgIED1AgAABApGAAInYFBEgQICAANEDBAgQIBAJCJCITREBAgQICBA9QIAAAQKRgACJ2BQRIECAgADRAwQIECAQCQiQiE0RAQIECAgQPUCAAAECkYAAidgUESBAgIAA0QMECBAgEAkIkIhNEQECBAgIED1AgAABApGAAInYFBEgQICAANEDBAgQIBAJCJCITREBAgQICBA9QIAAAQKRgACJ2BQRIECAgADRAwQIECAQCQiQiE0RAQIECAgQPUCAAAECkYAAidgUESBAgIAA0QMECBAgEAkIkIhNEQECBAgIED1AgAABApGAAInYFBEgQICAANEDBAgQIBAJCJCITREBAgQICBA9QIAAAQKRgACJ2BQRIECAgADRAwQIECAQCQiQiE0RAQIECAgQPUCAAAECkYAAidgUESBAgIAA0QMECBAgEAkIkIhNEQECBAgIED1AgAABApGAAInYFBEgQICAANEDBAgQIBAJCJCITREBAgQICBA9QIAAAQKRgACJ2BQRIECAgADRAwQIECAQCQiQiE0RAQIECAgQPUCAAAECkYAAidgUESBAgIAA0QMECBAgEAkIkIhNEQECBAgIED1AgAABApGAAInYFBEgQICAANEDBAgQIBAJCJCITREBAgQICBA9QIAAAQKRgACJ2BQRIECAgADRAwQIECAQCQiQiE0RAQIECAgQPUCAAAECkYAAidgUESBAgIAA0QMECBAgEAkIkIhNEQECBAgIED1AgAABApGAAInYFBEgQICAANEDBAgQIBAJCJCITREBAgQICBA9QIAAAQKRgACJ2BQRIECAgADRAwQIECAQCQiQiE0RAQIECAgQPUCAAAECkYAAidgUESBAgIAA0QMECBAgEAkIkIhNEQECBAgIED1AgAABApGAAInYFBEgQICAANEDBAgQIBAJCJCITREBAgQICBA9QIAAAQKRgACJ2BQRIECAgADRAwQIECAQCQiQiE0RAQIECAgQPUCAAAECkYAAidgUESBAgIAA0QMECBAgEAkIkIhNEQECBAgIED1AgAABApGAAInYFBEgQICAANEDBAgQIBAJCJCITREBAgQICBA9QIAAAQKRgACJ2BQRIECAgADRAwQIECAQCQiQiE0RAQIECAgQPUCAAAECkYAAidgUESBAgIAA0QMECBAgEAkIkIhNEQECBAgIED1AgAABApGAAInYFBEgQICAANEDBAgQIBAJCJCITREBAgQICBA9QIAAAQKRgACJ2BQRIECAgADRAwQIECAQCQiQiE0RAQIECAgQPUCAAAECkYAAidgUESBAgIAA0QMECBAgEAkIkIhNEQECBAgIED1AgAABApGAAInYFBEgQICAANEDBAgQIBAJCJCITREBAgQICBA9QIAAAQKRgACJ2BQRIECAgADRAwQIECAQCQiQiE0RAQIECAgQPUCAAAECkYAAidgUESBAgIAA0QMECBAgEAkIkIhNEQECBAgIED1AgAABApGAAInYFBEgQICAANEDBAiUC9y9e3f36NGj8udcfUDv53Wd3CAPEyCDLIRhENiawClC4zZDYVLTXQKkxtVdCZydwEiBIUj6tJ8A6ePsKQQ2J/Dbb7/t3njjje5fTR0L6W3kWMGn9QKknaU7ETgLgQ8//HD3zTffTBccfh9p354CpL2pOxLYpMAHH3yw+/bbbzczN28ixy+lADne0B0IbFpga8HhTaRduwqQdpbuRGBzAnfu3NncnK5PyJtIvsQCJLdTSWCzAp9//vnus88+2+z8hEibpRUgbRzdhcBmBM7hreOmxfImsr6FBch6MxUENitwruFxuaBCZF1rC5B1Xq4msFmBcw+P/cIKkHXtLUDWebmawCYFhMfTZRUiy1tcgCy3ciWBzQm88847ux9//HFz8zpmQgJkuZ4AWW7lSgKbEvDWcfNyCpDlbS5Allu5ksAmBD799NPdF198sYm5VE1CiCyTFSDLnFxFYBMC3jqWLaMAWeYkQJY5uYrA1AKffPLJ7ssvv5x6Dj0HL0CWaQuQZU6uIjCtgLeO9UsnQJaZCZBlTq4iMKWA8MiWTYAscxMgy5xcRWBIgV9//fXx/6nTjP/bh9vFxUU09OpgPGZs0YQmLRIgky6cYRPYC8wWIK0O5uoA2dt6Czm8xwTIYSNXEBhWYPQAaRUY1xdAgIzRks0DpGphfRoYo2GMYiyBEQNkfwb88MMPu3fffbcMq+qcuTpgZ87h5WsaID0W1avl4UV1xfkIjBYgf/755+7VV1/tvgAVZ48AObyMzQKkYgFfNHyLe3hxXbF9gVECpOqrqqUrePfu3ea/WZx6TkvnfsrrVgVI75A4BGOBDwn571sXGCFA3nvvvd33339/cuqK88kH1Rcv69QBcjk1QXLyvWsAJxI4dYCMdMAKkP5NuDhAKhan9XQFSWtR9xtd4JQBMlJ47Nep4owabY6j9eMLA6RiQXoAWPQeyp4xgsCpAmTEPVZxXo04zxH67sm3P49eIFSxIL0mb+F7SXvOKQV++eWX3ZtvvtltCCO/5Vf8kO4cOeI3kJkDZD9ti9/tXPGgEwn8/PPPu7feeqvL07/++uvdRx991OVZ6UNan1nOkDMOECGSbkN1swj89NNPu7fffrt0uCO/dVyfuAApbYXnbr7J30Cuz9KniL5N5WnjCaS/lXz11Ve7jz/+eLwJ3TIiAdJ3qc4iQLyJ9G0qTxtPIAmQGT94CZC+vXc2ASJE+jaWp40lsCZAXnvttd0ff/wx1gQWjkaALIRqdNlZBchM3+U2Wl+3IfBYYGmAzPjWcXWJBUjfhj+rAPEW0re5PG0cgSUBMnt47LUFSN+eO7sAESJ9G8zTxhA4FCBbCA8B0r/XzjJAhEj/RvPE0wq8KEC2Eh4CpH+PnW2ACJH+zeaJBCoFWn995Yw4vFqL/jHFioU5PLQ+V2zp01cfMU8hMJ5A1RnlfHjxWp99gPiTWeMdBkZEYI1Axb+Bdfl8AXJkgPz777+7e/furVnPxddeLk7Vp4elA9EkS6VcR2Asgeqzw9lwZIC89NJLu4uLi5KuuWlxqhvipol4CylZXjclcKvAKfZ5shwC5MgAOfXrYa9G0yjJ9lJDYL1Arz29fmTPVzgXjgiQ33//fff666+3WIcb77F0cXo0nLeQsmV24zMW6LF3K3mXnlGVYxj53i/8Eb3q7SNZlB6NmIxr5MU1NgKnEnj55Zd3//3336ke3/S5zoXbOW8NkMq3j3RBhEjTfeFmBJoIPHjwYPf33383udeIN0nPqxHn0npMtwZI1dvH/r7pJ5OqMV1F1SytW8z9tizQY0+e2s+ZELyBVH3a/+6773bvv/9+3BNV47ockGaJl0bhmQicQ2j4ULmsmW99A6k6qFsc0FVj25O1GN8yelcRmEvg3ILDh8rD/XljgFT+ANbqgK4KkVbjO0zvCgJzCJxrcHgLOdyfNwZIVcO88soru7/++uvwqBZeUREiAmQhvss2L1B1DswK52x4fuVuDJCKg7ni66GKcWqSWbe3cbcSEBy3SzofnrXpFiCt3z720xAgrY4M9zkXgYo9cy52FR+CZ7frFiAVyV2xGSrGOXuTGP92BCr2zHZ0ls3EGfHUqUuAVP4zIa03hOZYtolcNadA6/0yp8Jxo3ZGdA6Q+/fv7x4+fHjcqt1S3XpDVIZdCYCbElgh0Hq/rHj0pi4VIv9bzi5vIJXYFRuicryb2kUmM51AxX6ZDqHBgJ0RtwRIxd8BqcSu2BCV423Qu25BIBao2C/xYCYudEbcEiAVf4SvErtiQ1SOd+I9Y+gbEKjYLxtgWT0FZ8QtAVLRYJXYs413dacqINBQoGK/NBzeNLeqPNOmQbjpN5CKBqvErnhj8kP6TC1srGsEKvb3mudv5drKM20mo2d+RK/6d/2rsSs2RfWYZ2oSY92OQMVe2Y7Oupk4I679KaxZP81XbArNsW4zuXoOgYq9MsfM24/SGXEtQCqaq/LvgFy2RMW4NUf7DeeOcwhU7KdeM9/v217jd0Z0CJAeyBUN02PcvTaV5xBYI1Cxn9Y8f821N+3TXuN3RmwkQCq+euvx5rRmo7iWQC+BXgfwmvkc+wdbKuYkQIoD5NhFX9tga64/dG3PsR8ai/9OoKdAxWGbjr/VPqyYkwApDpCen+I1SLpF1RF4VqBiL601bn04V8yp9RjXGo1w/TN/jLc1ck/g1mPfL07P8Y/QDMZAYC9QsZduk231hnFo5Srm5Hy48gZS8XdAegJrkENbyH8nsEygYi+d8gPZ1uazbBX7XPXkDaTih+ieAVIx/l6fjvostacQWCZwzIHbc88vm03dG9WIc11q0uq6JwFyTNPcNpiewBVvUKf81NRqgd2HwFqBNWdBzz2+dh6X16+Zz5pnzDD3NfNJrt1MgFR9d9vzDwIkC6iGQGuBNQfuDIfomvmssZxh7mvmk1wrQA6o+RoraSs1BMYRECB1a1EWIKc4eDVKXaO4M4FZBZwLdStXFiCn+Oqn4of0Pf0p5lK35O5M4HwEqsJjL+grrCt/jLc19KlwW8/j8reVi4uL89l1ZkpgAwIVZ8FVllOdcSMtTdkbyKlwq95CTjWfkZrFWAjMIFAdHJcGzoQNvoH447wzbHFjJHCcQK+QeNEoBcgGA+TyK6fj2vP5as3SWtT9COQCAiS3a1m5ua+w9jgVX2MJkJZt514EjhMQIMf5tareZIBUfI11ij+W3GqR3YfA1gQEyBgruskA8TXWGM1lFARaC4wQHH5Ef7qqAmRFh/saawWWSwk0Eqj4SvrYoTkL/icoQFZ0kqZZgeVSAoHASG8Ytw3fOeANJGhtf/M0QlM0rMDSw7rHgTniW8ZNC9fDYtiGuWFgm30DqWhIzTNTaxvrIYGlAXLoPulvAhV7dOlYk+vs/+fVNhsgj7+fu3Mn6ZNbazRQU043O7FA6/1xfTrX98tsgXFoPideviEeL0BWLIMAWYHl0uEFqgNkeICVA7T/vYGsbJlnL9dAR/EpHkxAgKxbEPtfgKzrmGtXa6Cj+BQPJiBA1i2I/S9A1nWMADnKS/HYAgJk3foIkI4BMsI//dF6g2igdRvO1WMLtN4fY8/2+NHZ/x0DZP+oU4O33iCnns/xW8AdCDwVaL0/tmBrj69bxbI/hXXqAKn4I4Oaa11zufo0AoIhc7e/17ttNkAqNpEGW99gKvoLVPR+/1n0e6J9nVuXBsgpfwep2EQaLW80lf0EKnq/3+j7PsmePs77SYBUfOVzqq+xtjSX45ZX9TkKCJDDqy44DhstueJJgOwvrmi8UyxUxTxOFYZLFtE1BK4KVPX/VpRPcSZtxe76PATIwpU95ddxC4foMgKPBQTI7Y0gPNpuks0FiK+v2jaIu80nIECeXzPBUdPHzwRIxeHb+5N71ebRgDUN6K7tBar2QPuR1t/Rvq01fiZAql5/ey1iRQBemlxcXNSuhLsTaCRw7gHS67xptFxT32ZTAVK1cTTk1D1+doOv2gcjQfb+ZmOkuY80ls0ESNXbx36xBMhILWsshwS2HiD246EO6PffNxMgVZvGJ51+zehJ/QWq9k2Lmdh7LRRr7/FcgFR8kq9uhMpN4NNObQO6+xwClXvsqkD1WTGH9jyjfC5AZvshvbKxNfM8jWykfQVa7Tt7rO+6tX7a1AHSqolvQ/X20brd3I8AgS0JdAuQ1j9GV4eHT0ZbanNzIUCgQmDKAKkOj9ZhV7Fw7kmAAIFTC9wYIBU/pLc8lKsDxNvHqdvS8wkQmEHgxgAZ9Yf0qmC7vlB++5ihdY2RAIFTC3QNkDVvIQ8ePNj9888/3f8Sn7ePU7ek5xMgMItA9wAZHcbbx+grZHwECIwiIECurIS3j1Ha0jgIEJhBQIBcWSVvHzO0rDESIDCKgAD5/5Xw9jFKSxoHAQKzCNwaIPsJVP9x2ZGQvH2MtBrGQoDADAICxD/XPkOfGiMBAgMKnH2A3L9/f/fw4cMBl8aQCBAgMLbAWQeI3z3Gbk6jI0BgbIEXBsjWfwfxu8fYzWl0BAiMLXC2AeKrq7Eb0+gIEBhf4CwDxFdX4zemERIgML7AwQDZ4tdYvroavzGNkACB8QUWBciWQsRXV+M3pRESIDCHwOIAmT1EfG01R0MaJQEC8wisCpAZQ0RwzNOMRkqAwFwCqwNklhARHHM1otESIDCfQBQgo4eIH8nna0QjJkBgPoE4QEYNEeExXxMaMQECcwocFSCjhYjwmLMJjZoAgTkFjg6Qy2n3+Kff98+4d++ef/xwzl4zagIENibQLEA25mI6BAgQIHBAQIBoEQIECBCIBARIxKaIAAECBASIHiBAgACBSECARGyKCBAgQECA6AECBAgQiAQESMSmiAABAgQEiB4gQIAAgUhAgERsiggQIEBAgOgBAgQIEIgEBEjEpogAAQIEBIgeIECAAIFIQIBEbIoIECBAQIDoAQIECBCIBARIxKaIAAECBASIHiBAgACBSECARGyKCBAgQECA6AECBAgQiAQESMSmiAABAgQEiB4gQIAAgUhAgERsiggQIEBAgOgBAgQIEIgEBEjEpogAAQIEBIgeIECAAIFIQIBEbIoIECBAQIDoAQIECBCIBARIxKaIAAECBASIHiBAgACBSECARGyKCBAgQECA6AECBAgQiAQESMSmiAABAgQEiB4gQIAAgUhAgERsiggQIEBAgOgBAgQIEIgEBEjEpogAAQIEBIgeIECAAIFIQIBEbIoIECBAQIDoAQIECBCIBARIxKaIAAECBASIHiBAgACBSECARGyKCBAgQECA6AECBAgQiAQESMSmiAABAgQEiB4gQIAAgUhAgERsiggQIEBAgOgBAgQIEIgEBEjEpogAAQIEBIgeIECAAIFIQIBEbIoIECBAQIDoAQIECBCIBARIxKaIAAECBASIHiBAgACBSECARGyKCBAgQECA6AECBAgQiAQESMSmiAABAgQEiB4gQIAAgUhAgERsiggQIEBAgOgBAgQIEIgEBEjEpogAAQIEBIgeIECAAIFIQIBEbIoIECBAQIDoAQIECBCIBARIxKaIAAECBASIHiBAgACBSECARGyKCBAgQECA6AECBAgQiAQESMSmiAABAgQEiB4gQIAAgUhAgERsiggQIEBAgOgBAgQIEIgEBEjEpogAAQIEBIgeIECAAIFIQIBEbIoIECBAQIDoAQIECBCIBARIxKaIAAECBASIHiBAgACBSECARGyKCBAgQECA6AECBAgQiAQESMSmiAABAgQEiB4gQIAAgUhAgERsiggQIEBAgOgBAgQIEIgEBEjEpogAAQIEBIgeIECAAIFIQIBEbIoIECBAQIDoAQIECBCIBARIxKaIAAECBASIHiBAgACBSECARGyKCBAgQECA6AECBAgQiAQESMSmiAABAgQEiB4gQIAAgUhAgERsiggQIEBAgOgBAgQIEIgEBEjEpogAAQIEBIgeIECAAIFIQIBEbIoIECBAQIDoAQIECBCIBARIxKaIAAECBASIHiBAgACBSECARGyKCBAgQECA6AECBAgQiAQESMSmiAABAgQEiB4gQIAAgUhAgERsiggQIEBAgOgBAgQIEIgEBEjEpogAAQIEBIgeIECAAIFIQIBEbIoIECBAQIDoAQIECBCIBARIxKaIAAECBASIHiBAgACBSECARGyKCBAgQECA6AECBAgQiAQESMSmiAABAgQEiB4gQIAAgUhAgERsiggQIEBAgOgBAgQIEIgEBEjEpogAAQIEBIgeIECAAIFIQIBEbIoIECBAQIDoAQIECBCIBARIxKaIAAECBASIHiBAgACBSECARGyKCBAgQECA6AECBAgQiAQESMSmiAABAgQEiB4gQIAAgUhAgERsiggQIEBAgOgBAgQIEIgEBEjEpogAAQIE/g9QeiH2ozxrEgAAAABJRU5ErkJggg=='"
      ]
     },
     "execution_count": 4,
     "metadata": {},
     "output_type": "execute_result"
    }
   ],
   "source": [
    "dataURL"
   ]
  },
  {
   "cell_type": "markdown",
   "id": "69a6a04d",
   "metadata": {},
   "source": [
    "# Decode dataURL"
   ]
  },
  {
   "cell_type": "code",
   "execution_count": 5,
   "id": "8675c5b7",
   "metadata": {},
   "outputs": [
    {
     "data": {
      "text/plain": [
       "b'\\x89PNG\\r\\n\\x1a\\n\\x00\\x00\\x00\\rIHDR\\x00\\x00\\x01\\x90\\x00\\x00\\x01\\x90\\x08\\x06\\x00\\x00\\x00\\x80\\xbf6\\xcc\\x00\\x00\\x17\\xd1IDATx^\\xed\\xdd\\xbd\\xae\\x1c\\xc5\\xd6\\x06\\xe0\\xb1A\\xb6C$\\x02$\\x04\\x02\\x11\\x13\\x10\\x11\\x91q\\x17\\x84\\xe4D\\x04\\xdc\\x03\\x01\\x11)!\\xd7AD@\\x84\\xc4\\r \\x10\\x7f\\x01\\x12\\xa9\\x01\\xb1\\xfdi|\\xbemoo\\xef\\xed\\xe9~\\xa7VMU\\xcfsRzuW=\\xb5\\xaa\\xde\\xe9\\x19\\xdb\\xe7\\xce\\xa3G\\x8f\\x1e\\xed\\xfc\\x8f\\x00\\x01\\x02\\x04\\x08\\xac\\x14\\xb8#@V\\x8a\\xb9\\x9c\\x00\\x01\\x02\\x04\\x1e\\x0b\\x08\\x10\\x8d@\\x80\\x00\\x01\\x02\\x91\\x80\\x00\\x89\\xd8\\x14\\x11 @\\x80\\x80\\x00\\xd1\\x03\\x04\\x08\\x10 \\x10\\t\\x08\\x90\\x88M\\x11\\x01\\x02\\x04\\x08\\x08\\x10=@\\x80\\x00\\x01\\x02\\x91\\x80\\x00\\x89\\xd8\\x14\\x11 @\\x80\\x80\\x00\\xd1\\x03\\x04\\x08\\x10 \\x10\\t\\x08\\x90\\x88M\\x11\\x01\\x02\\x04\\x08\\x08\\x10=@\\x80\\x00\\x01\\x02\\x91\\x80\\x00\\x89\\xd8\\x14\\x11 @\\x80\\x80\\x00\\xd1\\x03\\x04\\x08\\x10 \\x10\\t\\x08\\x90\\x88M\\x11\\x01\\x02\\x04\\x08\\x08\\x10=@\\x80\\x00\\x01\\x02\\x91\\x80\\x00\\x89\\xd8\\x14\\x11 @\\x80\\x80\\x00\\xd1\\x03\\x04\\x08\\x10 \\x10\\t\\x08\\x90\\x88M\\x11\\x01\\x02\\x04\\x08\\x08\\x10=@\\x80\\x00\\x01\\x02\\x91\\x80\\x00\\x89\\xd8\\x14\\x11 @\\x80\\x80\\x00\\xd1\\x03\\x04\\x08\\x10 \\x10\\t\\x08\\x90\\x88M\\x11\\x01\\x02\\x04\\x08\\x08\\x10=@\\x80\\x00\\x01\\x02\\x91\\x80\\x00\\x89\\xd8\\x14\\x11 @\\x80\\x80\\x00\\xd1\\x03\\x04\\x08\\x10 \\x10\\t\\x08\\x90\\x88M\\x11\\x01\\x02\\x04\\x08\\x08\\x10=@\\x80\\x00\\x01\\x02\\x91\\x80\\x00\\x89\\xd8\\x14\\x11 @\\x80\\x80\\x00\\xd1\\x03\\x04\\x08\\x10 \\x10\\t\\x08\\x90\\x88M\\x11\\x01\\x02\\x04\\x08\\x08\\x10=@\\x80\\x00\\x01\\x02\\x91\\x80\\x00\\x89\\xd8\\x14\\x11 @\\x80\\x80\\x00\\xd1\\x03\\x04\\x08\\x10 \\x10\\t\\x08\\x90\\x88M\\x11\\x01\\x02\\x04\\x08\\x08\\x10=@\\x80\\x00\\x01\\x02\\x91\\x80\\x00\\x89\\xd8\\x14\\x11 @\\x80\\x80\\x00\\xd1\\x03\\x04\\x08\\x10 \\x10\\t\\x08\\x90\\x88M\\x11\\x01\\x02\\x04\\x08\\x08\\x10=@\\x80\\x00\\x01\\x02\\x91\\x80\\x00\\x89\\xd8\\x14\\x11 @\\x80\\x80\\x00\\xd1\\x03\\x04\\x08\\x10 \\x10\\t\\x08\\x90\\x88M\\x11\\x01\\x02\\x04\\x08\\x08\\x10=@\\x80\\x00\\x01\\x02\\x91\\x80\\x00\\x89\\xd8\\x14\\x11 @\\x80\\x80\\x00\\xd1\\x03\\x04\\x08\\x10 \\x10\\t\\x08\\x90\\x88M\\x11\\x01\\x02\\x04\\x08\\x08\\x10=@\\x80\\x00\\x01\\x02\\x91\\x80\\x00\\x89\\xd8\\x14\\x11 @\\x80\\x80\\x00\\xd1\\x03\\x04\\x08\\x10 \\x10\\t\\x08\\x90\\x88M\\x11\\x01\\x02\\x04\\x08\\x08\\x10=@\\x80\\x00\\x01\\x02\\x91\\x80\\x00\\x89\\xd8\\x14\\x11 @\\x80\\x80\\x00\\xd1\\x03\\x04\\x08\\x10 \\x10\\t\\x08\\x90\\x88M\\x11\\x01\\x02\\x04\\x08\\x08\\x10=@\\x80\\x00\\x01\\x02\\x91\\x80\\x00\\x89\\xd8\\x14\\x11 @\\x80\\x80\\x00\\xd1\\x03\\x04\\x08\\x10 \\x10\\t\\x08\\x90\\x88M\\x11\\x01\\x02\\x04\\x08\\x08\\x10=@\\x80\\x00\\x01\\x02\\x91\\x80\\x00\\x89\\xd8\\x14\\x11 @\\x80\\x80\\x00\\xd1\\x03\\x04\\x08\\x10 \\x10\\t\\x08\\x90\\x88M\\x11\\x01\\x02\\x04\\x08\\x08\\x10=@\\x80\\x00\\x01\\x02\\x91\\x80\\x00\\x89\\xd8\\x14\\x11 @\\x80\\x80\\x00\\xd1\\x03\\x04\\x08\\x10 \\x10\\t\\x08\\x90\\x88M\\x11\\x01\\x02\\x04\\x08\\x08\\x10=@\\x80\\x00\\x01\\x02\\x91\\x80\\x00\\x89\\xd8\\x14\\x11 @\\x80\\x80\\x00\\xd1\\x03\\x04\\x08\\x10 \\x10\\t\\x08\\x90\\x88M\\x11\\x01\\x02\\x04\\x08\\x08\\x10=@\\x80\\x00\\x01\\x02\\x91\\x80\\x00\\x89\\xd8\\x14\\x11 @\\x80\\x80\\x00\\xd1\\x03\\x04\\x08\\x10 \\x10\\t\\x08\\x90\\x88M\\x11\\x01\\x02\\x04\\x08\\x08\\x10=@\\x80\\x00\\x01\\x02\\x91\\x80\\x00\\x89\\xd8\\x14\\x11 @\\x80\\x80\\x00\\xd1\\x03\\x04\\x08\\x10 \\x10\\t\\x08\\x90\\x88M\\x11\\x01\\x02\\x04\\x08\\x08\\x10=@\\x80\\x00\\x01\\x02\\x91\\x80\\x00\\x89\\xd8\\x14\\x11 @\\x80\\x80\\x00\\xd1\\x03\\x04\\x08\\x10 \\x10\\t\\x08\\x90\\x88M\\x11\\x01\\x02\\x04\\x08\\x08\\x10=@\\x80\\x00\\x01\\x02\\x91\\x80\\x00\\x89\\xd8\\x14\\x11 @\\x80\\x80\\x00\\xd1\\x03\\x04\\x08\\x10 \\x10\\t\\x08\\x90\\x88M\\x11\\x01\\x02\\x04\\x08\\x08\\x10=@\\x80\\x00\\x01\\x02\\x91\\x80\\x00\\x89\\xd8\\x14\\x11 @\\x80\\x80\\x00\\xd1\\x03\\x04\\x08\\x10 \\x10\\t\\x08\\x90\\x88M\\x11\\x01\\x02\\x04\\x08\\x08\\x10=@\\x80\\x00\\x01\\x02\\x91\\x80\\x00\\x89\\xd8\\x14\\x11 @\\x80\\x80\\x00\\xd1\\x03\\x04\\x08\\x10 \\x10\\t\\x08\\x90\\x88M\\x11\\x01\\x02\\x04\\x08\\x08\\x10=@\\x80\\x00\\x01\\x02\\x91\\x80\\x00\\x89\\xd8\\x14\\x11 @\\x80\\x80\\x00\\xd1\\x03\\x04\\x08\\x10 \\x10\\t\\x08\\x90\\x88M\\x11\\x01\\x02\\x04\\x08\\x08\\x10=@\\x80\\x00\\x01\\x02\\x91\\x80\\x00\\x89\\xd8\\x14\\x11 @\\x80\\x80\\x00\\xd1\\x03\\x04\\x08\\x10 \\x10\\t\\x08\\x90\\x88M\\x11\\x01\\x02\\x04\\x08\\x08\\x10=@\\x80\\x00\\x01\\x02\\x91\\x80\\x00\\x89\\xd8\\x14\\x11 @\\x80\\x80\\x00\\xd1\\x03\\x04\\x08\\x10 \\x10\\t\\x08\\x90\\x88M\\x11\\x01\\x02\\x04\\x08\\x08\\x10=@\\x80\\x00\\x01\\x02\\x91\\x80\\x00\\x89\\xd8\\x14\\x11 @\\x80\\x80\\x00\\xd1\\x03\\x04\\x08\\x10 \\x10\\t\\x08\\x90\\x88M\\x11\\x01\\x02\\x04\\x08\\x08\\x10=@\\x80\\x00\\x01\\x02\\x91\\x80\\x00\\x89\\xd8\\x14\\x11 @\\x80\\x80\\x00\\xd1\\x03\\x04\\x08\\x10 \\x10\\t\\x08\\x90\\x88M\\x11\\x01\\x02\\x04\\x08\\x08\\x10=@\\x80\\x00\\x01\\x02\\x91\\x80\\x00\\x89\\xd8\\x14\\x11 @\\x80\\x80\\x00\\xd1\\x03\\x04\\x08\\x10 \\x10\\t\\x08\\x90\\x88M\\x11\\x01\\x02\\x04\\x08\\x08\\x10=@\\x80\\x00\\x01\\x02\\x91\\x80\\x00\\x89\\xd8\\x14\\x11 @\\x80\\x80\\x00\\xd1\\x03\\x04\\x08\\x10 \\x10\\t\\x08\\x90\\x88M\\x11\\x01\\x02\\x04\\x08\\x08\\x10=@\\x80\\x00\\x01\\x02\\x91\\x80\\x00\\x89\\xd8\\x14\\x11 @\\x80\\x80\\x00\\xd1\\x03\\x04\\x08\\x10 \\x10\\t\\x08\\x90\\x88M\\x11\\x01\\x02\\x04\\x08\\x08\\x10=@\\x80\\x00\\x01\\x02\\x91\\x80\\x00\\x89\\xd8\\x14\\x11 @\\x80\\x80\\x00\\xd1\\x03\\x04\\x08\\x10 \\x10\\t\\x08\\x90\\x88M\\x11\\x01\\x02\\x04\\x08\\x08\\x10=@\\x80\\x00\\x01\\x02\\x91\\x80\\x00\\x89\\xd8\\x14\\x11 @\\x80\\x80\\x00\\xd1\\x03\\x04\\x08\\x94\\x0b\\xdc\\xbd{w\\xf7\\xe8\\xd1\\xa3\\xf2\\xe7\\\\}@\\xef\\xe7u\\x9d\\xdc \\x0f\\x13 \\x83,\\x84a\\x10\\xd8\\x9a\\xc0)B\\xe36CaR\\xd3]\\x02\\xa4\\xc6\\xd5]\\t\\x9c\\x9d\\xc0H\\x81!H\\xfa\\xb4\\x9f\\x00\\xe9\\xe3\\xec)\\x046\\'\\xf0\\xdbo\\xbf\\xed\\xdex\\xe3\\x8d\\xee_M\\x1d\\x0b\\xe9m\\xe4X\\xc1\\xa7\\xf5\\x02\\xa4\\x9d\\xa5;\\x118\\x0b\\x81\\x0f?\\xfcp\\xf7\\xcd7\\xdfL\\x17\\x1c~\\x1fi\\xdf\\x9e\\x02\\xa4\\xbd\\xa9;\\x12\\xd8\\xa4\\xc0\\x07\\x1f|\\xb0\\xfb\\xf6\\xdbo737o\"\\xc7/\\xa5\\x009\\xde\\xd0\\x1d\\x08lZ`k\\xc1\\xe1M\\xa4]\\xbb\\n\\x90v\\x96\\xeeD`s\\x02w\\xee\\xdc\\xd9\\xdc\\x9c\\xaeO\\xc8\\x9bH\\xbe\\xc4\\x02$\\xb7SI`\\xb3\\x02\\x9f\\x7f\\xfe\\xf9\\xee\\xb3\\xcf>\\xdb\\xec\\xfc\\x84H\\x9b\\xa5\\x15 m\\x1c\\xdd\\x85\\xc0f\\x04\\xce\\xe1\\xad\\xe3\\xa6\\xc5\\xf2&\\xb2\\xbe\\x85\\x05\\xc8z3\\x15\\x046+p\\xae\\xe1q\\xb9\\xa0Bd]k\\x0b\\x90u^\\xae&\\xb0Y\\x81s\\x0f\\x8f\\xfd\\xc2\\n\\x90u\\xed-@\\xd6y\\xb9\\x9a\\xc0&\\x05\\x84\\xc7\\xd3e\\x15\"\\xcb[\\\\\\x80,\\xb7r%\\x81\\xcd\\t\\xbc\\xf3\\xce;\\xbb\\x1f\\x7f\\xfcqs\\xf3:fB\\x02d\\xb9\\x9e\\x00Yn\\xe5J\\x02\\x9b\\x12\\xf0\\xd6q\\xf3r\\n\\x90\\xe5m.@\\x96[\\xb9\\x92\\xc0&\\x04>\\xfd\\xf4\\xd3\\xdd\\x17_|\\xb1\\x89\\xb9TMB\\x88,\\x93\\x15 \\xcb\\x9c\\\\E`\\x13\\x02\\xde:\\x96-\\xa3\\x00Y\\xe6$@\\x969\\xb9\\x8a\\xc0\\xd4\\x02\\x9f|\\xf2\\xc9\\xee\\xcb/\\xbf\\x9cz\\x0e=\\x07/@\\x96i\\x0b\\x90eN\\xae\"0\\xad\\x80\\xb7\\x8e\\xf5K\\'@\\x96\\x99\\t\\x90eN\\xae\"0\\xa5\\x80\\xf0\\xc8\\x96M\\x80,s\\x13 \\xcb\\x9c\\\\E`H\\x81_\\x7f\\xfd\\xf5\\xf1\\xff\\xa9\\xd3\\x8c\\xff\\xdb\\x87\\xdb\\xc5\\xc5E4\\xf4\\xea`<fl\\xd1\\x84&-\\x12 \\x93.\\x9ca\\x13\\xd8\\x0b\\xcc\\x16 \\xad\\x0e\\xe6\\xea\\x00\\xd9\\xdbz\\x0b9\\xbc\\xc7\\x04\\xc8a#W\\x10\\x18V`\\xf4\\x00i\\x15\\x18\\xd7\\x17@\\x80\\x8c\\xd1\\x92\\xcd\\x03\\xa4ja}\\x1a\\x18\\xa3a\\x8cb,\\x81\\x11\\x03d\\x7f\\x06\\xfc\\xf0\\xc3\\x0f\\xbbw\\xdf}\\xb7\\x0c\\xab\\xea\\x9c\\xb9:`g\\xce\\xe1\\xe5k\\x1a =\\x16\\xd5\\xab\\xe5\\xe1Eu\\xc5\\xf9\\x08\\x8c\\x16 \\x7f\\xfe\\xf9\\xe7\\xee\\xd5W_\\xed\\xbe\\x00\\x15g\\x8f\\x009\\xbc\\x8c\\xcd\\x02\\xa4b\\x01_4|\\x8b{xq]\\xb1}\\x81Q\\x02\\xa4\\xea\\xab\\xaa\\xa5+x\\xf7\\xee\\xdd\\xe6\\xbfY\\x9czNK\\xe7~\\xca\\xebV\\x05H\\xef\\x908\\x04c\\x81\\x0f\\t\\xf9\\xef[\\x17\\x18!@\\xde{\\xef\\xbd\\xdd\\xf7\\xdf\\x7f\\x7fr\\xea\\x8a\\xf3\\xc9\\x07\\xd5\\x17/\\xeb\\xd4\\x01r95Ar\\xf2\\xbdk\\x00\\'\\x128u\\x80\\x8ct\\xc0\\n\\x90\\xfeM\\xb88@*\\x16\\xa7\\xf5t\\x05IkQ\\xf7\\x1b]\\xe0\\x94\\x012Rx\\xec\\xd7\\xa9\\xe2\\x8c\\x1am\\x8e\\xa3\\xf5\\xe3\\x0b\\x03\\xa4bAz\\x00X\\xf4\\x1e\\xca\\x9e1\\x82\\xc0\\xa9\\x02d\\xc4=Vq^\\x8d8\\xcf\\x11\\xfa\\xee\\xc9\\xb7?\\x8f^ T\\xb1 \\xbd&o\\xe1{I{\\xce)\\x05~\\xf9\\xe5\\x97\\xdd\\x9bo\\xbe\\xd9m\\x08#\\xbf\\xe5W\\xfc\\x90\\xee\\x1c9\\xe27\\x90\\x99\\x03d?m\\x8b\\xdf\\xed\\\\\\xf1\\xa0\\x13\\t\\xfc\\xfc\\xf3\\xcf\\xbb\\xb7\\xdez\\xab\\xcb\\xd3\\xbf\\xfe\\xfa\\xeb\\xddG\\x1f}\\xd4\\xe5Y\\xe9CZ\\x9fY\\xce\\x903\\x0e\\x10!\\x92nCu\\xb3\\x08\\xfc\\xf4\\xd3O\\xbb\\xb7\\xdf~\\xbbt\\xb8#\\xbfu\\\\\\x9f\\xb8\\x00)m\\x85\\xe7n\\xbe\\xc9\\xdf@\\xae\\xcf\\xd2\\xa7\\x88\\xbeM\\xe5i\\xe3\\t\\xa4\\xbf\\x95|\\xf5\\xd5W\\xbb\\x8f?\\xfex\\xbc\\t\\xdd2\"\\x01\\xd2w\\xa9\\xce\"@\\xbc\\x89\\xf4m*O\\x1bO \\t\\x90\\x19?x\\t\\x90\\xbe\\xbdw6\\x01\"D\\xfa6\\x96\\xa7\\x8d%\\xb0&@^{\\xed\\xb5\\xdd\\x1f\\x7f\\xfc1\\xd6\\x04\\x16\\x8eF\\x80,\\x84jt\\xd9Y\\x05\\xc8L\\xdf\\xe56Z_\\xb7!\\xf0X`i\\x80\\xcc\\xf8\\xd6qu\\x89\\x05H\\xdf\\x86?\\xab\\x00\\xf1\\x16\\xd2\\xb7\\xb9<m\\x1c\\x81%\\x012{x\\xec\\xb5\\x05H\\xdf\\x9e;\\xbb\\x00\\x11\"}\\x1b\\xcc\\xd3\\xc6\\x108\\x14 [\\x08\\x0f\\x01\\xd2\\xbf\\xd7\\xce2@\\x84H\\xffF\\xf3\\xc4\\xd3\\n\\xbc(@\\xb6\\x12\\x1e\\x02\\xa4\\x7f\\x8f\\x9dm\\x80\\x08\\x91\\xfe\\xcd\\xe6\\x89\\x04*\\x05Z\\x7f}\\xe5\\x8c8\\xbcZ\\x8b\\xfe1\\xc5\\x8a\\x859<\\xb4>Wl\\xe9\\xd3W\\x1f1O!0\\x9e@\\xd5\\x19\\xe5|x\\xf1Z\\x9f}\\x80\\xf8\\x93Y\\xe3\\x1d\\x06FD`\\x8d@\\xc5\\xbf\\x81u\\xf9|\\x01rd\\x80\\xfc\\xfb\\xef\\xbf\\xbb{\\xf7\\xee\\xadY\\xcf\\xc5\\xd7^.N\\xd5\\xa7\\x87\\xa5\\x03\\xd1$K\\xa5\\\\G`,\\x81\\xea\\xb3\\xc3\\xd9pd\\x80\\xbc\\xf4\\xd2K\\xbb\\x8b\\x8b\\x8b\\x92\\xae\\xb9iq\\xaa\\x1b\\xe2\\xa6\\x89x\\x0b)Y^7%p\\xab\\xc0)\\xf6y\\xb2\\x1c\\x02\\xe4\\xc8\\x009\\xf5\\xeba\\xafF\\xd3(\\xc9\\xf6RC`\\xbd@\\xaf=\\xbd~d\\xcfW8\\x17\\x8e\\x08\\x90\\xdf\\x7f\\xff}\\xf7\\xfa\\xeb\\xaf\\xb7X\\x87\\x1b\\xef\\xb1tqz4\\x9c\\xb7\\x90\\xb2ev\\xe33\\x16\\xe8\\xb1w+y\\x97\\x9eQ\\x95c\\x18\\xf9\\xde/\\xfc\\x11\\xbd\\xea\\xed#Y\\x94\\x1e\\x8d\\x98\\x8ck\\xe4\\xc556\\x02\\xa7\\x12x\\xf9\\xe5\\x97w\\xff\\xfd\\xf7\\xdf\\xa9\\x1e\\xdf\\xf4\\xb9\\xce\\x85\\xdb9o\\r\\x90\\xca\\xb7\\x8ftA\\x84H\\xd3}\\xe1f\\x04\\x9a\\x08<x\\xf0`\\xf7\\xf7\\xdf\\x7f7\\xb9\\xd7\\x887I\\xcf\\xab\\x11\\xe7\\xd2zL\\xb7\\x06H\\xd5\\xdb\\xc7\\xfe\\xbe\\xe9\\'\\x93\\xaa1]E\\xd5,\\xad[\\xcc\\xfd\\xb6,\\xd0cO\\x9e\\xda\\xcf\\x99\\x10\\xbc\\x81T}\\xda\\xff\\xee\\xbb\\xefv\\xef\\xbf\\xff~\\xdc\\x13U\\xe3\\xba\\x1c\\x90f\\x89\\x97F\\xe1\\x99\\x08\\x9cCh\\xf8P\\xb9\\xac\\x99o}\\x03\\xa9:\\xa8[\\x1c\\xd0Uc\\xdb\\x93\\xb5\\x18\\xdf2zW\\x11\\x98K\\xe0\\xdc\\x82\\xc3\\x87\\xca\\xc3\\xfdyc\\x80T\\xfe\\x00\\xd6\\xea\\x80\\xae\\n\\x91V\\xe3;L\\xef\\n\\x02s\\x08\\x9ckpx\\x0b9\\xdc\\x9f7\\x06HU\\xc3\\xbc\\xf2\\xca+\\xbb\\xbf\\xfe\\xfa\\xeb\\xf0\\xa8\\x16^Q\\x11\"\\x02d!\\xbe\\xcb6/Pu\\x0e\\xcc\\n\\xe7lx~\\xe5n\\x0c\\x90\\x8a\\x83\\xb9\\xe2\\xeb\\xa1\\x8aqj\\x92Y\\xb7\\xb7q\\xb7\\x12\\x10\\x1c\\xb7K:\\x1f\\x9e\\xb5\\xe9\\x16 \\xad\\xdf>\\xf6\\xd3\\x10 \\xad\\x8e\\x0c\\xf79\\x17\\x81\\x8a=s.v\\x15\\x1f\\x82g\\xb7\\xeb\\x16 \\x15\\xc9]\\xb1\\x19*\\xc69{\\x93\\x18\\xffv\\x04*\\xf6\\xccvt\\x96\\xcd\\xc4\\x19\\xf1\\xd4\\xa9K\\x80T\\xfe3!\\xad7\\x84\\xe6X\\xb6\\x89\\\\5\\xa7@\\xeb\\xfd2\\xa7\\xc2q\\xa3vFt\\x0e\\x90\\xfb\\xf7\\xef\\xef\\x1e>|x\\xdc\\xaa\\xddR\\xddzCT\\x86]\\t\\x80\\x9b\\x12X!\\xd0z\\xbf\\xacx\\xf4\\xa6.\\x15\"\\xff[\\xce.o \\x95\\xd8\\x15\\x1b\\xa2r\\xbc\\x9b\\xdaE&3\\x9d@\\xc5~\\x99\\x0e\\xa1\\xc1\\x80\\x9d\\x11\\xb7\\x04H\\xc5\\xdf\\x01\\xa9\\xc4\\xae\\xd8\\x10\\x95\\xe3m\\xd0\\xbbnA \\x16\\xa8\\xd8/\\xf1`&.tF\\xdc\\x12 \\x15\\x7f\\x84\\xaf\\x12\\xbbbCT\\x8ew\\xe2=c\\xe8\\x1b\\x10\\xa8\\xd8/\\x1b`Y=\\x05g\\xc4-\\x01R\\xd1`\\x95\\xd8\\xb3\\x8dwu\\xa7* \\xd0P\\xa0b\\xbf4\\x1c\\xde4\\xb7\\xaa<\\xd3\\xa6A\\xb8\\xe97\\x90\\x8a\\x06\\xab\\xc4\\xaexc\\xf2C\\xfaL-l\\xack\\x04*\\xf6\\xf7\\x9a\\xe7o\\xe5\\xda\\xca3m&\\xa3g~D\\xaf\\xfaw\\xfd\\xab\\xb1+6E\\xf5\\x98gj\\x12c\\xdd\\x8e@\\xc5^\\xd9\\x8e\\xce\\xba\\x998#\\xae\\xfd)\\xacY?\\xcdWl\\n\\xcd\\xb1n3\\xb9z\\x0e\\x81\\x8a\\xbd2\\xc7\\xcc\\xdb\\x8f\\xd2\\x19q-@*\\x9a\\xab\\xf2\\xef\\x80\\\\\\xb6D\\xc5\\xb85G\\xfb\\r\\xe7\\x8es\\x08T\\xec\\xa7^3\\xdf\\xef\\xdb^\\xe3wFt\\x08\\x90\\x1e\\xc8\\x15\\r\\xd3c\\xdc\\xbd6\\x95\\xe7\\x10X#P\\xb1\\x9f\\xd6<\\x7f\\xcd\\xb57\\xed\\xd3^\\xe3wFl$@*\\xbez\\xeb\\xf1\\xe6\\xb4f\\xa3\\xb8\\x96@/\\x81^\\x07\\xf0\\x9a\\xf9\\x1c\\xfb\\x07[*\\xe6$@\\x8a\\x03\\xe4\\xd8E_\\xdb`k\\xae?tm\\xcf\\xb1\\x1f\\x1a\\x8b\\xffN\\xa0\\xa7@\\xc5a\\x9b\\x8e\\xbf\\xd5>\\xac\\x98\\x93\\x00)\\x0e\\x90\\x9e\\x9f\\xe25H\\xbaE\\xd5\\x11xV\\xa0b/\\xad5n}8W\\xcc\\xa9\\xf5\\x18\\xd7\\x1a\\x8dp\\xfd3\\x7f\\x8c\\xb75rO\\xe0\\xd6c\\xdf/N\\xcf\\xf1\\x8f\\xd0\\x0c\\xc6@`/P\\xb1\\x97n\\x93m\\xf5\\x86qh\\xe5*\\xe6\\xe4|\\xb8\\xf2\\x06R\\xf1w@z\\x02k\\x90C[\\xc8\\x7f\\'\\xb0L\\xa0b/\\x9d\\xf2\\x03\\xd9\\xd6\\xe6\\xb3l\\x15\\xfb\\\\\\xf5\\xe4\\r\\xa4\\xe2\\x87\\xe8\\x9e\\x01R1\\xfe^\\x9f\\x8e\\xfa,\\xb5\\xa7\\x10X&p\\xcc\\x81\\xdbs\\xcf/\\x9bM\\xdd\\x1b\\xd5\\x88s]j\\xd2\\xea\\xba\\'\\x01rL\\xd3\\xdc6\\x98\\x9e\\xc0\\x15oP\\xa7\\xfc\\xd4\\xd4j\\x81\\xdd\\x87\\xc0Z\\x815gA\\xcf=\\xbev\\x1e\\x97\\xd7\\xaf\\x99\\xcf\\x9ag\\xcc0\\xf75\\xf3I\\xae\\xddL\\x80T}w\\xdb\\xf3\\x0f\\x02$\\x0b\\xa8\\x86@k\\x815\\x07\\xee\\x0c\\x87\\xe8\\x9a\\xf9\\xac\\xb1\\x9ca\\xeek\\xe6\\x93\\\\+@\\x0e\\xa8\\xf9\\x1a+i+5\\x04\\xc6\\x11\\x10 ukQ\\x16 \\xa78x5J]\\xa3\\xb83\\x81Y\\x05\\x9c\\x0bu+W\\x16 \\xa7\\xf8\\xea\\xa7\\xe2\\x87\\xf4=\\xfd)\\xe6R\\xb7\\xe4\\xeeL\\xe0|\\x04\\xaa\\xc2c/\\xe8+\\xac+\\x7f\\x8c\\xb75\\xf4\\xa9p[\\xcf\\xe3\\xf2\\xb7\\x95\\x8b\\x8b\\x8b\\xf3\\xd9ufJ`\\x03\\x02\\x15g\\xc1U\\x96S\\x9dq#-M\\xd9\\x1b\\xc8\\xa9p\\xab\\xdeBN5\\x9f\\x91\\x9a\\xc5X\\x08\\xcc P\\x1d\\x1c\\x97\\x06\\xce\\x84\\r\\xbe\\x81\\xf8\\xe3\\xbc3lqc$p\\x9c@\\xaf\\x90x\\xd1(\\x05\\xc8\\x06\\x03\\xe4\\xf2+\\xa7\\xe3\\xda\\xf3\\xf9j\\xcd\\xd2Z\\xd4\\xfd\\x08\\xe4\\x02\\x02$\\xb7kY\\xb9\\xb9\\xaf\\xb0\\xf68\\x15_c\\t\\x90\\x96m\\xe7^\\x04\\x8e\\x13\\x10 \\xc7\\xf9\\xb5\\xaa\\xded\\x80T|\\x8du\\x8a?\\x96\\xdcj\\x91\\xdd\\x87\\xc0\\xd6\\x04\\x04\\xc8\\x18+\\xba\\xc9\\x00\\xf15\\xd6\\x18\\xcde\\x14\\x04Z\\x0b\\x8c\\x10\\x1c~D\\x7f\\xba\\xaa\\x02dE\\x87\\xfb\\x1ak\\x05\\x96K\\t4\\x12\\xa8\\xf8J\\xfa\\xd8\\xa19\\x0b\\xfe\\'(@Vt\\x92\\xa6Y\\x81\\xe5R\\x02\\x81\\xc0Ho\\x18\\xb7\\r\\xdf9\\xe0\\r$hm\\x7f\\xf34BS4\\xac\\xc0\\xd2\\xc3\\xba\\xc7\\x819\\xe2[\\xc6M\\x0b\\xd7\\xc3b\\xd8\\x86\\xb9a`\\x9b}\\x03\\xa9hH\\xcd3Sk\\x1b\\xeb!\\x81\\xa5\\x01r\\xe8>\\xe9o\\x02\\x15{t\\xe9X\\x93\\xeb\\xec\\xff\\xe7\\xd56\\x1b \\x8f\\xbf\\x9f\\xbbs\\'\\xe9\\x93[k4PSN7;\\xb1@\\xeb\\xfdq}:\\xd7\\xf7\\xcbl\\x81qh>\\'^\\xbe!\\x1e/@V,\\x83\\x00Y\\x81\\xe5\\xd2\\xe1\\x05\\xaa\\x03dx\\x80\\x95\\x03\\xb4\\xff\\xbd\\x81\\xacl\\x99g/\\xd7@G\\xf1)\\x1eL@\\x80\\xac[\\x10\\xfb_\\x80\\xac\\xeb\\x98kWk\\xa0\\xa3\\xf8\\x14\\x0f& @\\xd6-\\x88\\xfd/@\\xd6u\\x8c\\x009\\xcaK\\xf1\\xd8\\x02\\x02d\\xdd\\xfa\\x08\\x90\\x8e\\x012\\xc2?\\xfd\\xd1z\\x83h\\xa0u\\x1b\\xce\\xd5c\\x0b\\xb4\\xde\\x1fc\\xcf\\xf6\\xf8\\xd1\\xd9\\xff\\x1d\\x03d\\xff\\xa8S\\x83\\xb7\\xde \\xa7\\x9e\\xcf\\xf1[\\xc0\\x1d\\x08<\\x15h\\xbd?\\xb6`k\\x8f\\xaf[\\xc5\\xb2?\\x85u\\xea\\x00\\xa9\\xf8#\\x83\\x9ak]s\\xb9\\xfa4\\x02\\x82!s\\xb7\\xbf\\xd7\\xbbm6@*6\\x91\\x06[\\xdf`*\\xfa\\x0bT\\xf4~\\xffY\\xf4{\\xa2}\\x9d[\\x97\\x06\\xc8)\\x7f\\x07\\xa9\\xd8D\\x1a-o4\\x95\\xfd\\x04*z\\xbf\\xdf\\xe8\\xfb>\\xc9\\x9e>\\xce\\xfbI\\x80T|\\xe5s\\xaa\\xaf\\xb1\\xb64\\x97\\xe3\\x96W\\xf59\\n\\x08\\x90\\xc3\\xab.8\\x0e\\x1b-\\xb9\\xe2I\\x80\\xec/\\xaeh\\xbcS,T\\xc5<N\\x15\\x86K\\x16\\xd15\\x04\\xae\\nT\\xf5\\xffV\\x94Oq&m\\xc5\\xee\\xfa<\\x04\\xc8\\xc2\\x95=\\xe5\\xd7q\\x0b\\x87\\xe82\\x02\\x8f\\x05\\x04\\xc8\\xed\\x8d <\\xdan\\x92\\xcd\\x05\\x88\\xaf\\xaf\\xda6\\x88\\xbb\\xcd\\' @\\x9e_3\\xc1Q\\xd3\\xc7\\xcf\\x04H\\xc5\\xe1\\xdb\\xfb\\x93{\\xd5\\xe6\\xd1\\x805\\r\\xe8\\xae\\xed\\x05\\xaa\\xf6@\\xfb\\x91\\xd6\\xdf\\xd1\\xbe\\xad5~&@\\xaa^\\x7f{-bE\\x00^\\x9a\\\\\\\\\\\\\\xd4\\xae\\x84\\xbb\\x13h$p\\xee\\x01\\xd2\\xeb\\xbci\\xb4\\\\S\\xdffS\\x01R\\xb5q4\\xe4\\xd4=~v\\x83\\xaf\\xda\\x07#A\\xf6\\xfefc\\xa4\\xb9\\x8f4\\x96\\xcd\\x04H\\xd5\\xdb\\xc7~\\xb1\\x04\\xc8H-k,\\x87\\x04\\xb6\\x1e \\xf6\\xe3\\xa1\\x0e\\xe8\\xf7\\xdf7\\x13 U\\x9b\\xc6\\'\\x9d~\\xcd\\xe8I\\xfd\\x05\\xaa\\xf6M\\x8b\\x99\\xd8{-\\x14k\\xef\\xf1\\\\\\x80T|\\x92\\xafn\\x84\\xcaM\\xe0\\xd3Nm\\x03\\xba\\xfb\\x1c\\x02\\x95{\\xec\\xaa@\\xf5Y1\\x87\\xf6<\\xa3|.@f\\xfb!\\xbd\\xb2\\xb15\\xf3<\\x8dl\\xa4}\\x05Z\\xed;{\\xac\\xef\\xba\\xb5~\\xda\\xd4\\x01\\xd2\\xaa\\x89oC\\xf5\\xf6\\xd1\\xba\\xdd\\xdc\\x8f\\x00\\x81-\\tt\\x0b\\x90\\xd6?FW\\x87\\x87OF[jss!@\\xa0B`\\xca\\x00\\xa9\\x0e\\x8f\\xd6aW\\xb1p\\xeeI\\x80\\x00\\x81S\\x0b\\xdc\\x18 \\x15?\\xa4\\xb7<\\x94\\xab\\x03\\xc4\\xdb\\xc7\\xa9\\xdb\\xd2\\xf3\\t\\x10\\x98A\\xe0\\xc6\\x00\\x19\\xf5\\x87\\xf4\\xaa`\\xbb\\xbeP~\\xfb\\x98\\xa1u\\x8d\\x91\\x00\\x81S\\x0bt\\r\\x905o!\\x0f\\x1e<\\xd8\\xfd\\xf3\\xcf?\\xdd\\xff\\x12\\x9f\\xb7\\x8fS\\xb7\\xa4\\xe7\\x13 0\\x8b@\\xf7\\x00\\x19\\x1d\\xc6\\xdb\\xc7\\xe8+d|\\x04\\x08\\x8c\" @\\xae\\xac\\x84\\xb7\\x8fQ\\xda\\xd28\\x08\\x10\\x98A@\\x80\\\\Y%o\\x1f3\\xb4\\xac1\\x12 0\\x8a\\x80\\x00\\xf9\\xff\\x95\\xf0\\xf61JK\\x1a\\x07\\x01\\x02\\xb3\\x08\\xdc\\x1a \\xfb\\tT\\xffq\\xd9\\x91\\x90\\xbc}\\x8c\\xb4\\x1a\\xc6B\\x80\\xc0\\x0c\\x02\\x02\\xc4?\\xd7>C\\x9f\\x1a#\\x01\\x02\\x03\\n\\x9c}\\x80\\xdc\\xbf\\x7f\\x7f\\xf7\\xf0\\xe1\\xc3\\x01\\x97\\xc6\\x90\\x08\\x10 0\\xb6\\xc0Y\\x07\\x88\\xdf=\\xc6nN\\xa3#@`l\\x81\\x17\\x06\\xc8\\xd6\\x7f\\x07\\xf1\\xbb\\xc7\\xd8\\xcdit\\x04\\x08\\x8c-p\\xb6\\x01\\xe2\\xab\\xab\\xb1\\x1b\\xd3\\xe8\\x08\\x10\\x18_\\xe0,\\x03\\xc4WW\\xe37\\xa6\\x11\\x12 0\\xbe\\xc0\\xc1\\x00\\xd9\\xe2\\xd7X\\xbe\\xba\\x1a\\xbf1\\x8d\\x90\\x00\\x81\\xf1\\x05\\x16\\x05\\xc8\\x96B\\xc4WW\\xe37\\xa5\\x11\\x12 0\\x87\\xc0\\xe2\\x00\\x99=D|m5GC\\x1a%\\x01\\x02\\xf3\\x08\\xac\\n\\x90\\x19CDp\\xcc\\xd3\\x8cFJ\\x80\\xc0\\\\\\x02\\xab\\x03d\\x96\\x10\\x11\\x1cs5\\xa2\\xd1\\x12 0\\x9f@\\x14 \\xa3\\x87\\x88\\x1f\\xc9\\xe7kD#&@`>\\x818@F\\r\\x11\\xe11_\\x13\\x1a1\\x01\\x02s\\n\\x1c\\x15 \\xa3\\x85\\x88\\xf0\\x98\\xb3\\t\\x8d\\x9a\\x00\\x819\\x05\\x8e\\x0e\\x90\\xcbi\\xf7\\xf8\\xa7\\xdf\\xf7\\xcf\\xb8w\\xef\\x9e\\x7f\\xfcp\\xce^3j\\x02\\x046&\\xd0,@6\\xe6b:\\x04\\x08\\x10 p@@\\x80h\\x11\\x02\\x04\\x08\\x10\\x88\\x04\\x04H\\xc4\\xa6\\x88\\x00\\x01\\x02\\x04\\x04\\x88\\x1e @\\x80\\x00\\x81H@\\x80Dl\\x8a\\x08\\x10 @@\\x80\\xe8\\x01\\x02\\x04\\x08\\x10\\x88\\x04\\x04H\\xc4\\xa6\\x88\\x00\\x01\\x02\\x04\\x04\\x88\\x1e @\\x80\\x00\\x81H@\\x80Dl\\x8a\\x08\\x10 @@\\x80\\xe8\\x01\\x02\\x04\\x08\\x10\\x88\\x04\\x04H\\xc4\\xa6\\x88\\x00\\x01\\x02\\x04\\x04\\x88\\x1e @\\x80\\x00\\x81H@\\x80Dl\\x8a\\x08\\x10 @@\\x80\\xe8\\x01\\x02\\x04\\x08\\x10\\x88\\x04\\x04H\\xc4\\xa6\\x88\\x00\\x01\\x02\\x04\\x04\\x88\\x1e @\\x80\\x00\\x81H@\\x80Dl\\x8a\\x08\\x10 @@\\x80\\xe8\\x01\\x02\\x04\\x08\\x10\\x88\\x04\\x04H\\xc4\\xa6\\x88\\x00\\x01\\x02\\x04\\x04\\x88\\x1e @\\x80\\x00\\x81H@\\x80Dl\\x8a\\x08\\x10 @@\\x80\\xe8\\x01\\x02\\x04\\x08\\x10\\x88\\x04\\x04H\\xc4\\xa6\\x88\\x00\\x01\\x02\\x04\\x04\\x88\\x1e @\\x80\\x00\\x81H@\\x80Dl\\x8a\\x08\\x10 @@\\x80\\xe8\\x01\\x02\\x04\\x08\\x10\\x88\\x04\\x04H\\xc4\\xa6\\x88\\x00\\x01\\x02\\x04\\x04\\x88\\x1e @\\x80\\x00\\x81H@\\x80Dl\\x8a\\x08\\x10 @@\\x80\\xe8\\x01\\x02\\x04\\x08\\x10\\x88\\x04\\x04H\\xc4\\xa6\\x88\\x00\\x01\\x02\\x04\\x04\\x88\\x1e @\\x80\\x00\\x81H@\\x80Dl\\x8a\\x08\\x10 @@\\x80\\xe8\\x01\\x02\\x04\\x08\\x10\\x88\\x04\\x04H\\xc4\\xa6\\x88\\x00\\x01\\x02\\x04\\x04\\x88\\x1e @\\x80\\x00\\x81H@\\x80Dl\\x8a\\x08\\x10 @@\\x80\\xe8\\x01\\x02\\x04\\x08\\x10\\x88\\x04\\x04H\\xc4\\xa6\\x88\\x00\\x01\\x02\\x04\\x04\\x88\\x1e @\\x80\\x00\\x81H@\\x80Dl\\x8a\\x08\\x10 @@\\x80\\xe8\\x01\\x02\\x04\\x08\\x10\\x88\\x04\\x04H\\xc4\\xa6\\x88\\x00\\x01\\x02\\x04\\x04\\x88\\x1e @\\x80\\x00\\x81H@\\x80Dl\\x8a\\x08\\x10 @@\\x80\\xe8\\x01\\x02\\x04\\x08\\x10\\x88\\x04\\x04H\\xc4\\xa6\\x88\\x00\\x01\\x02\\x04\\x04\\x88\\x1e @\\x80\\x00\\x81H@\\x80Dl\\x8a\\x08\\x10 @@\\x80\\xe8\\x01\\x02\\x04\\x08\\x10\\x88\\x04\\x04H\\xc4\\xa6\\x88\\x00\\x01\\x02\\x04\\x04\\x88\\x1e @\\x80\\x00\\x81H@\\x80Dl\\x8a\\x08\\x10 @@\\x80\\xe8\\x01\\x02\\x04\\x08\\x10\\x88\\x04\\x04H\\xc4\\xa6\\x88\\x00\\x01\\x02\\x04\\x04\\x88\\x1e @\\x80\\x00\\x81H@\\x80Dl\\x8a\\x08\\x10 @@\\x80\\xe8\\x01\\x02\\x04\\x08\\x10\\x88\\x04\\x04H\\xc4\\xa6\\x88\\x00\\x01\\x02\\x04\\x04\\x88\\x1e @\\x80\\x00\\x81H@\\x80Dl\\x8a\\x08\\x10 @@\\x80\\xe8\\x01\\x02\\x04\\x08\\x10\\x88\\x04\\x04H\\xc4\\xa6\\x88\\x00\\x01\\x02\\x04\\x04\\x88\\x1e @\\x80\\x00\\x81H@\\x80Dl\\x8a\\x08\\x10 @@\\x80\\xe8\\x01\\x02\\x04\\x08\\x10\\x88\\x04\\x04H\\xc4\\xa6\\x88\\x00\\x01\\x02\\x04\\x04\\x88\\x1e @\\x80\\x00\\x81H@\\x80Dl\\x8a\\x08\\x10 @@\\x80\\xe8\\x01\\x02\\x04\\x08\\x10\\x88\\x04\\x04H\\xc4\\xa6\\x88\\x00\\x01\\x02\\x04\\x04\\x88\\x1e @\\x80\\x00\\x81H@\\x80Dl\\x8a\\x08\\x10 @@\\x80\\xe8\\x01\\x02\\x04\\x08\\x10\\x88\\x04\\x04H\\xc4\\xa6\\x88\\x00\\x01\\x02\\x04\\x04\\x88\\x1e @\\x80\\x00\\x81H@\\x80Dl\\x8a\\x08\\x10 @@\\x80\\xe8\\x01\\x02\\x04\\x08\\x10\\x88\\x04\\x04H\\xc4\\xa6\\x88\\x00\\x01\\x02\\x04\\x04\\x88\\x1e @\\x80\\x00\\x81H@\\x80Dl\\x8a\\x08\\x10 @@\\x80\\xe8\\x01\\x02\\x04\\x08\\x10\\x88\\x04\\x04H\\xc4\\xa6\\x88\\x00\\x01\\x02\\x04\\x04\\x88\\x1e @\\x80\\x00\\x81H@\\x80Dl\\x8a\\x08\\x10 @@\\x80\\xe8\\x01\\x02\\x04\\x08\\x10\\x88\\x04\\x04H\\xc4\\xa6\\x88\\x00\\x01\\x02\\x04\\x04\\x88\\x1e @\\x80\\x00\\x81H@\\x80Dl\\x8a\\x08\\x10 @@\\x80\\xe8\\x01\\x02\\x04\\x08\\x10\\x88\\x04\\x04H\\xc4\\xa6\\x88\\x00\\x01\\x02\\x04\\x04\\x88\\x1e @\\x80\\x00\\x81H@\\x80Dl\\x8a\\x08\\x10 @@\\x80\\xe8\\x01\\x02\\x04\\x08\\x10\\x88\\x04\\x04H\\xc4\\xa6\\x88\\x00\\x01\\x02\\x04\\x04\\x88\\x1e @\\x80\\x00\\x81H@\\x80Dl\\x8a\\x08\\x10 @@\\x80\\xe8\\x01\\x02\\x04\\x08\\x10\\x88\\x04\\x04H\\xc4\\xa6\\x88\\x00\\x01\\x02\\x04\\x04\\x88\\x1e @\\x80\\x00\\x81H@\\x80Dl\\x8a\\x08\\x10 @@\\x80\\xe8\\x01\\x02\\x04\\x08\\x10\\x88\\x04\\x04H\\xc4\\xa6\\x88\\x00\\x01\\x02\\x04\\x04\\x88\\x1e @\\x80\\x00\\x81H@\\x80Dl\\x8a\\x08\\x10 @@\\x80\\xe8\\x01\\x02\\x04\\x08\\x10\\x88\\x04\\x04H\\xc4\\xa6\\x88\\x00\\x01\\x02\\x04\\x04\\x88\\x1e @\\x80\\x00\\x81H@\\x80Dl\\x8a\\x08\\x10 @@\\x80\\xe8\\x01\\x02\\x04\\x08\\x10\\x88\\x04\\x04H\\xc4\\xa6\\x88\\x00\\x01\\x02\\x04\\x04\\x88\\x1e @\\x80\\x00\\x81H@\\x80Dl\\x8a\\x08\\x10 @@\\x80\\xe8\\x01\\x02\\x04\\x08\\x10\\x88\\x04\\x04H\\xc4\\xa6\\x88\\x00\\x01\\x02\\x04\\x04\\x88\\x1e @\\x80\\x00\\x81H@\\x80Dl\\x8a\\x08\\x10 @@\\x80\\xe8\\x01\\x02\\x04\\x08\\x10\\x88\\x04\\x04H\\xc4\\xa6\\x88\\x00\\x01\\x02\\x04\\x04\\x88\\x1e @\\x80\\x00\\x81H@\\x80Dl\\x8a\\x08\\x10 @@\\x80\\xe8\\x01\\x02\\x04\\x08\\x10\\x88\\x04\\x04H\\xc4\\xa6\\x88\\x00\\x01\\x02\\x04\\x04\\x88\\x1e @\\x80\\x00\\x81H@\\x80Dl\\x8a\\x08\\x10 @@\\x80\\xe8\\x01\\x02\\x04\\x08\\x10\\x88\\x04\\x04H\\xc4\\xa6\\x88\\x00\\x01\\x02\\x04\\x04\\x88\\x1e @\\x80\\x00\\x81H@\\x80Dl\\x8a\\x08\\x10 @@\\x80\\xe8\\x01\\x02\\x04\\x08\\x10\\x88\\x04\\x04H\\xc4\\xa6\\x88\\x00\\x01\\x02\\x04\\xfe\\x0fPz!\\xf6\\xa3<k\\x12\\x00\\x00\\x00\\x00IEND\\xaeB`\\x82'"
      ]
     },
     "execution_count": 5,
     "metadata": {},
     "output_type": "execute_result"
    }
   ],
   "source": [
    "from base64 import b64decode\n",
    "\n",
    "# Python 2 and <Python 3.4\n",
    "header, encoded = dataURL.split(\",\", 1)\n",
    "data = b64decode(encoded)\n",
    "\n",
    "data"
   ]
  },
  {
   "cell_type": "markdown",
   "id": "b2c7b07f",
   "metadata": {},
   "source": [
    "# Save to file image.png\n",
    "- To check if it is right image"
   ]
  },
  {
   "cell_type": "code",
   "execution_count": 6,
   "id": "1b108ded",
   "metadata": {},
   "outputs": [],
   "source": [
    "with open(\"image.png\", \"wb\") as f:\n",
    "    f.write(data)"
   ]
  },
  {
   "cell_type": "markdown",
   "id": "d38ce7be",
   "metadata": {},
   "source": [
    "# Process image data"
   ]
  },
  {
   "cell_type": "code",
   "execution_count": null,
   "id": "820bbc7a",
   "metadata": {},
   "outputs": [],
   "source": []
  },
  {
   "cell_type": "code",
   "execution_count": 10,
   "id": "9a253feb",
   "metadata": {},
   "outputs": [
    {
     "data": {
      "text/plain": [
       "TensorShape([400, 400, 3])"
      ]
     },
     "execution_count": 10,
     "metadata": {},
     "output_type": "execute_result"
    }
   ],
   "source": [
    "# Transfer decoded dataURL into RGB number\n",
    "image = tf.io.decode_image(data, channels=3)\n",
    "image.shape"
   ]
  },
  {
   "cell_type": "code",
   "execution_count": 12,
   "id": "bbed8f38",
   "metadata": {},
   "outputs": [
    {
     "data": {
      "text/plain": [
       "TensorShape([28, 28, 3])"
      ]
     },
     "execution_count": 12,
     "metadata": {},
     "output_type": "execute_result"
    }
   ],
   "source": [
    "# Resize image, from 400 x 400 to 28 x 28\n",
    "image_size = (28, 28)\n",
    "image_28 = tf.image.resize(image, \n",
    "                        method=\"bilinear\", \n",
    "                        size=image_size,\n",
    "                       )\n",
    "image_28.shape"
   ]
  },
  {
   "cell_type": "code",
   "execution_count": 14,
   "id": "0b93e603",
   "metadata": {},
   "outputs": [
    {
     "data": {
      "text/plain": [
       "TensorShape([28, 28, 1])"
      ]
     },
     "execution_count": 14,
     "metadata": {},
     "output_type": "execute_result"
    }
   ],
   "source": [
    "# Convert image from RGB format to grey format. That is from 3 varialbe to 1 varialbe for a point in image\n",
    "image_28_grey = tf.image.rgb_to_grayscale(image_28)\n",
    "image_28_grey.shape"
   ]
  },
  {
   "cell_type": "code",
   "execution_count": 15,
   "id": "c3089c99",
   "metadata": {},
   "outputs": [
    {
     "data": {
      "text/plain": [
       "numpy.ndarray"
      ]
     },
     "execution_count": 15,
     "metadata": {},
     "output_type": "execute_result"
    }
   ],
   "source": [
    "# convert tensorflow.python.framework.ops.EagerTensor into numpy array\n",
    "image_28_grey_np = image_28_grey.numpy()\n",
    "type(image_28_grey_np)"
   ]
  },
  {
   "cell_type": "code",
   "execution_count": 16,
   "id": "bacf360e",
   "metadata": {},
   "outputs": [],
   "source": [
    "# Scale the image pixels by 255 (or use a scaler from sklearn here)\n",
    "image_28_grey_np /= 255"
   ]
  },
  {
   "cell_type": "code",
   "execution_count": 25,
   "id": "5e63464f",
   "metadata": {},
   "outputs": [
    {
     "data": {
      "text/plain": [
       "(1, 784)"
      ]
     },
     "execution_count": 25,
     "metadata": {},
     "output_type": "execute_result"
    }
   ],
   "source": [
    "# Flatten into a 1x28*28 array \n",
    "img = image_28_grey_np.flatten().reshape(-1, 28*28)\n",
    "img.shape"
   ]
  },
  {
   "cell_type": "code",
   "execution_count": 26,
   "id": "fb997c13",
   "metadata": {},
   "outputs": [
    {
     "data": {
      "text/plain": [
       "<matplotlib.image.AxesImage at 0x7fb9b9e28358>"
      ]
     },
     "execution_count": 26,
     "metadata": {},
     "output_type": "execute_result"
    },
    {
     "data": {
      "image/png": "[encoded data removed]",
      "text/plain": [
       "<Figure size 432x288 with 1 Axes>"
      ]
     },
     "metadata": {
      "needs_background": "light"
     },
     "output_type": "display_data"
    }
   ],
   "source": [
    "# Show image\n",
    "plt.imshow(img.reshape(28, 28), cmap=plt.cm.Greys)"
   ]
  },
  {
   "cell_type": "code",
   "execution_count": 27,
   "id": "c8811e2e",
   "metadata": {},
   "outputs": [
    {
     "data": {
      "text/plain": [
       "<matplotlib.image.AxesImage at 0x7fb9d10bde48>"
      ]
     },
     "execution_count": 27,
     "metadata": {},
     "output_type": "execute_result"
    },
    {
     "data": {
      "image/png": "[encoded data removed]",
      "text/plain": [
       "<Figure size 432x288 with 1 Axes>"
      ]
     },
     "metadata": {
      "needs_background": "light"
     },
     "output_type": "display_data"
    }
   ],
   "source": [
    "# Invert the pixel values to match the original data\n",
    "img_inverted = 1 - img\n",
    "plt.imshow(img_inverted.reshape(28, 28), cmap=plt.cm.Greys)"
   ]
  },
  {
   "cell_type": "code",
   "execution_count": 20,
   "id": "d9bd2744",
   "metadata": {},
   "outputs": [
    {
     "data": {
      "text/plain": [
       "(1, 784)"
      ]
     },
     "execution_count": 20,
     "metadata": {},
     "output_type": "execute_result"
    }
   ],
   "source": [
    "img.shape"
   ]
  },
  {
   "cell_type": "code",
   "execution_count": 22,
   "id": "1763ea2c",
   "metadata": {},
   "outputs": [
    {
     "data": {
      "text/plain": [
       "array([[[0.99990004],\n",
       "        [0.99990004],\n",
       "        [0.99990004],\n",
       "        [0.99990004],\n",
       "        [0.99990004],\n",
       "        [0.99990004],\n",
       "        [0.99990004],\n",
       "        [0.99990004],\n",
       "        [0.99990004],\n",
       "        [0.99990004],\n",
       "        [0.99990004],\n",
       "        [0.99990004],\n",
       "        [0.99990004],\n",
       "        [0.99990004],\n",
       "        [0.99990004],\n",
       "        [0.99990004],\n",
       "        [0.99990004],\n",
       "        [0.99990004],\n",
       "        [0.99990004],\n",
       "        [0.99990004],\n",
       "        [0.99990004],\n",
       "        [0.99990004],\n",
       "        [0.99990004],\n",
       "        [0.99990004],\n",
       "        [0.99990004],\n",
       "        [0.99990004],\n",
       "        [0.99990004],\n",
       "        [0.99990004]],\n",
       "\n",
       "       [[0.99990004],\n",
       "        [0.99990004],\n",
       "        [0.99990004],\n",
       "        [0.99990004],\n",
       "        [0.99990004],\n",
       "        [0.99990004],\n",
       "        [0.99990004],\n",
       "        [0.99990004],\n",
       "        [0.99990004],\n",
       "        [0.99990004],\n",
       "        [0.99990004],\n",
       "        [0.99990004],\n",
       "        [0.99990004],\n",
       "        [0.99990004],\n",
       "        [0.99990004],\n",
       "        [0.99990004],\n",
       "        [0.99990004],\n",
       "        [0.99990004],\n",
       "        [0.99990004],\n",
       "        [0.99990004],\n",
       "        [0.99990004],\n",
       "        [0.99990004],\n",
       "        [0.99990004],\n",
       "        [0.99990004],\n",
       "        [0.99990004],\n",
       "        [0.99990004],\n",
       "        [0.99990004],\n",
       "        [0.99990004]],\n",
       "\n",
       "       [[0.99990004],\n",
       "        [0.99990004],\n",
       "        [0.99990004],\n",
       "        [0.99990004],\n",
       "        [0.99990004],\n",
       "        [0.99990004],\n",
       "        [0.99990004],\n",
       "        [0.99990004],\n",
       "        [0.99990004],\n",
       "        [0.99990004],\n",
       "        [0.99990004],\n",
       "        [0.99990004],\n",
       "        [0.99990004],\n",
       "        [0.99990004],\n",
       "        [0.99990004],\n",
       "        [0.99990004],\n",
       "        [0.99990004],\n",
       "        [0.99990004],\n",
       "        [0.99990004],\n",
       "        [0.99990004],\n",
       "        [0.99990004],\n",
       "        [0.99990004],\n",
       "        [0.99990004],\n",
       "        [0.99990004],\n",
       "        [0.99990004],\n",
       "        [0.99990004],\n",
       "        [0.99990004],\n",
       "        [0.99990004]],\n",
       "\n",
       "       [[0.99990004],\n",
       "        [0.99990004],\n",
       "        [0.99990004],\n",
       "        [0.99990004],\n",
       "        [0.99990004],\n",
       "        [0.99990004],\n",
       "        [0.99990004],\n",
       "        [0.99990004],\n",
       "        [0.99990004],\n",
       "        [0.99990004],\n",
       "        [0.99990004],\n",
       "        [0.99990004],\n",
       "        [0.99990004],\n",
       "        [0.99990004],\n",
       "        [0.99990004],\n",
       "        [0.99990004],\n",
       "        [0.99990004],\n",
       "        [0.99990004],\n",
       "        [0.99990004],\n",
       "        [0.99990004],\n",
       "        [0.99990004],\n",
       "        [0.99990004],\n",
       "        [0.99990004],\n",
       "        [0.99990004],\n",
       "        [0.99990004],\n",
       "        [0.99990004],\n",
       "        [0.99990004],\n",
       "        [0.99990004]],\n",
       "\n",
       "       [[0.99990004],\n",
       "        [0.99990004],\n",
       "        [0.99990004],\n",
       "        [0.99990004],\n",
       "        [0.99990004],\n",
       "        [0.99990004],\n",
       "        [0.99990004],\n",
       "        [0.99990004],\n",
       "        [0.99990004],\n",
       "        [0.99990004],\n",
       "        [0.99990004],\n",
       "        [0.99990004],\n",
       "        [0.99990004],\n",
       "        [0.99990004],\n",
       "        [0.99990004],\n",
       "        [0.99990004],\n",
       "        [0.99990004],\n",
       "        [0.99990004],\n",
       "        [0.99990004],\n",
       "        [0.99990004],\n",
       "        [0.99990004],\n",
       "        [0.99990004],\n",
       "        [0.99990004],\n",
       "        [0.99990004],\n",
       "        [0.99990004],\n",
       "        [0.99990004],\n",
       "        [0.99990004],\n",
       "        [0.99990004]],\n",
       "\n",
       "       [[0.99990004],\n",
       "        [0.99990004],\n",
       "        [0.99990004],\n",
       "        [0.99990004],\n",
       "        [0.99990004],\n",
       "        [0.99990004],\n",
       "        [0.99990004],\n",
       "        [0.99990004],\n",
       "        [0.99990004],\n",
       "        [0.99990004],\n",
       "        [0.99990004],\n",
       "        [0.99990004],\n",
       "        [0.99990004],\n",
       "        [0.99990004],\n",
       "        [0.99990004],\n",
       "        [0.99990004],\n",
       "        [0.99990004],\n",
       "        [0.99990004],\n",
       "        [0.99990004],\n",
       "        [0.99990004],\n",
       "        [0.99990004],\n",
       "        [0.99990004],\n",
       "        [0.99990004],\n",
       "        [0.99990004],\n",
       "        [0.99990004],\n",
       "        [0.99990004],\n",
       "        [0.99990004],\n",
       "        [0.99990004]],\n",
       "\n",
       "       [[0.99990004],\n",
       "        [0.99990004],\n",
       "        [0.99990004],\n",
       "        [0.99990004],\n",
       "        [0.99990004],\n",
       "        [0.99990004],\n",
       "        [0.99990004],\n",
       "        [0.99990004],\n",
       "        [0.99990004],\n",
       "        [0.99990004],\n",
       "        [0.99990004],\n",
       "        [0.99990004],\n",
       "        [0.99990004],\n",
       "        [0.99990004],\n",
       "        [0.99990004],\n",
       "        [0.99990004],\n",
       "        [0.99990004],\n",
       "        [0.99990004],\n",
       "        [0.99990004],\n",
       "        [0.99990004],\n",
       "        [0.99990004],\n",
       "        [0.99990004],\n",
       "        [0.99990004],\n",
       "        [0.99990004],\n",
       "        [0.99990004],\n",
       "        [0.99990004],\n",
       "        [0.99990004],\n",
       "        [0.99990004]],\n",
       "\n",
       "       [[0.99990004],\n",
       "        [0.99990004],\n",
       "        [0.99990004],\n",
       "        [0.99990004],\n",
       "        [0.99990004],\n",
       "        [0.99990004],\n",
       "        [0.99990004],\n",
       "        [0.99990004],\n",
       "        [0.99990004],\n",
       "        [0.99990004],\n",
       "        [0.99990004],\n",
       "        [0.99990004],\n",
       "        [0.99990004],\n",
       "        [0.99990004],\n",
       "        [0.99990004],\n",
       "        [0.99990004],\n",
       "        [0.99990004],\n",
       "        [0.99990004],\n",
       "        [0.99990004],\n",
       "        [0.99990004],\n",
       "        [0.99990004],\n",
       "        [0.99990004],\n",
       "        [0.99990004],\n",
       "        [0.99990004],\n",
       "        [0.99990004],\n",
       "        [0.99990004],\n",
       "        [0.99990004],\n",
       "        [0.99990004]],\n",
       "\n",
       "       [[0.99990004],\n",
       "        [0.99990004],\n",
       "        [0.99990004],\n",
       "        [0.99990004],\n",
       "        [0.99990004],\n",
       "        [0.99990004],\n",
       "        [0.99990004],\n",
       "        [0.99990004],\n",
       "        [0.99990004],\n",
       "        [0.99990004],\n",
       "        [0.99990004],\n",
       "        [0.99990004],\n",
       "        [0.99990004],\n",
       "        [0.99990004],\n",
       "        [0.99990004],\n",
       "        [0.99990004],\n",
       "        [0.99990004],\n",
       "        [0.99990004],\n",
       "        [0.99990004],\n",
       "        [0.99990004],\n",
       "        [0.99990004],\n",
       "        [0.99990004],\n",
       "        [0.99990004],\n",
       "        [0.99990004],\n",
       "        [0.99990004],\n",
       "        [0.99990004],\n",
       "        [0.99990004],\n",
       "        [0.99990004]],\n",
       "\n",
       "       [[0.99990004],\n",
       "        [0.99990004],\n",
       "        [0.99990004],\n",
       "        [0.99990004],\n",
       "        [0.99990004],\n",
       "        [0.99990004],\n",
       "        [0.99990004],\n",
       "        [0.99990004],\n",
       "        [0.99990004],\n",
       "        [0.99990004],\n",
       "        [0.99990004],\n",
       "        [0.99990004],\n",
       "        [0.99990004],\n",
       "        [0.99990004],\n",
       "        [0.99990004],\n",
       "        [0.99990004],\n",
       "        [0.99990004],\n",
       "        [0.99990004],\n",
       "        [0.99990004],\n",
       "        [0.        ],\n",
       "        [0.        ],\n",
       "        [0.        ],\n",
       "        [0.99990004],\n",
       "        [0.99990004],\n",
       "        [0.99990004],\n",
       "        [0.99990004],\n",
       "        [0.99990004],\n",
       "        [0.99990004]],\n",
       "\n",
       "       [[0.99990004],\n",
       "        [0.99990004],\n",
       "        [0.99990004],\n",
       "        [0.99990004],\n",
       "        [0.99990004],\n",
       "        [0.99990004],\n",
       "        [0.99990004],\n",
       "        [0.99990004],\n",
       "        [0.99990004],\n",
       "        [0.99990004],\n",
       "        [0.99990004],\n",
       "        [0.99990004],\n",
       "        [0.99990004],\n",
       "        [0.99990004],\n",
       "        [0.99990004],\n",
       "        [0.99990004],\n",
       "        [0.99990004],\n",
       "        [0.3558468 ],\n",
       "        [0.        ],\n",
       "        [0.        ],\n",
       "        [0.        ],\n",
       "        [0.        ],\n",
       "        [0.        ],\n",
       "        [0.99990004],\n",
       "        [0.99990004],\n",
       "        [0.99990004],\n",
       "        [0.99990004],\n",
       "        [0.99990004]],\n",
       "\n",
       "       [[0.3571072 ],\n",
       "        [0.        ],\n",
       "        [0.        ],\n",
       "        [0.        ],\n",
       "        [0.99990004],\n",
       "        [0.99990004],\n",
       "        [0.99990004],\n",
       "        [0.99990004],\n",
       "        [0.99990004],\n",
       "        [0.99990004],\n",
       "        [0.99990004],\n",
       "        [0.99990004],\n",
       "        [0.99990004],\n",
       "        [0.99990004],\n",
       "        [0.99990004],\n",
       "        [0.99990004],\n",
       "        [0.99990004],\n",
       "        [0.        ],\n",
       "        [0.        ],\n",
       "        [0.99990004],\n",
       "        [0.99990004],\n",
       "        [0.99990004],\n",
       "        [0.        ],\n",
       "        [0.99990004],\n",
       "        [0.99990004],\n",
       "        [0.99990004],\n",
       "        [0.99990004],\n",
       "        [0.99990004]],\n",
       "\n",
       "       [[0.89565   ],\n",
       "        [0.        ],\n",
       "        [0.99990004],\n",
       "        [0.        ],\n",
       "        [0.        ],\n",
       "        [0.99990004],\n",
       "        [0.99990004],\n",
       "        [0.99990004],\n",
       "        [0.99990004],\n",
       "        [0.99990004],\n",
       "        [0.99990004],\n",
       "        [0.99990004],\n",
       "        [0.99990004],\n",
       "        [0.99990004],\n",
       "        [0.99990004],\n",
       "        [0.99990004],\n",
       "        [0.99990004],\n",
       "        [0.99990004],\n",
       "        [0.99990004],\n",
       "        [0.9292609 ],\n",
       "        [0.        ],\n",
       "        [0.        ],\n",
       "        [0.        ],\n",
       "        [0.99990004],\n",
       "        [0.99990004],\n",
       "        [0.99990004],\n",
       "        [0.99990004],\n",
       "        [0.99990004]],\n",
       "\n",
       "       [[0.        ],\n",
       "        [0.        ],\n",
       "        [0.99990004],\n",
       "        [0.        ],\n",
       "        [0.        ],\n",
       "        [0.99990004],\n",
       "        [0.99990004],\n",
       "        [0.99990004],\n",
       "        [0.99990004],\n",
       "        [0.99990004],\n",
       "        [0.99990004],\n",
       "        [0.99990004],\n",
       "        [0.99990004],\n",
       "        [0.99990004],\n",
       "        [0.99990004],\n",
       "        [0.99990004],\n",
       "        [0.99990004],\n",
       "        [0.99990004],\n",
       "        [0.        ],\n",
       "        [0.        ],\n",
       "        [0.        ],\n",
       "        [0.        ],\n",
       "        [0.        ],\n",
       "        [0.99990004],\n",
       "        [0.99990004],\n",
       "        [0.99990004],\n",
       "        [0.99990004],\n",
       "        [0.99990004]],\n",
       "\n",
       "       [[0.        ],\n",
       "        [0.        ],\n",
       "        [0.99990004],\n",
       "        [0.8262458 ],\n",
       "        [0.        ],\n",
       "        [0.99990004],\n",
       "        [0.99990004],\n",
       "        [0.99990004],\n",
       "        [0.99990004],\n",
       "        [0.99990004],\n",
       "        [0.99990004],\n",
       "        [0.99990004],\n",
       "        [0.99990004],\n",
       "        [0.99990004],\n",
       "        [0.99990004],\n",
       "        [0.99990004],\n",
       "        [0.99990004],\n",
       "        [0.99990004],\n",
       "        [0.        ],\n",
       "        [0.99990004],\n",
       "        [0.99990004],\n",
       "        [0.99990004],\n",
       "        [0.        ],\n",
       "        [0.99990004],\n",
       "        [0.99990004],\n",
       "        [0.99990004],\n",
       "        [0.99990004],\n",
       "        [0.99990004]],\n",
       "\n",
       "       [[0.        ],\n",
       "        [0.        ],\n",
       "        [0.99990004],\n",
       "        [0.99990004],\n",
       "        [0.        ],\n",
       "        [0.99990004],\n",
       "        [0.99990004],\n",
       "        [0.99990004],\n",
       "        [0.99990004],\n",
       "        [0.99990004],\n",
       "        [0.99990004],\n",
       "        [0.99990004],\n",
       "        [0.99990004],\n",
       "        [0.99990004],\n",
       "        [0.99990004],\n",
       "        [0.99990004],\n",
       "        [0.99990004],\n",
       "        [0.99990004],\n",
       "        [0.        ],\n",
       "        [0.99990004],\n",
       "        [0.        ],\n",
       "        [0.        ],\n",
       "        [0.        ],\n",
       "        [0.99990004],\n",
       "        [0.99990004],\n",
       "        [0.99990004],\n",
       "        [0.99990004],\n",
       "        [0.99990004]],\n",
       "\n",
       "       [[0.        ],\n",
       "        [0.        ],\n",
       "        [0.99990004],\n",
       "        [0.99990004],\n",
       "        [0.        ],\n",
       "        [0.99990004],\n",
       "        [0.99990004],\n",
       "        [0.99990004],\n",
       "        [0.99990004],\n",
       "        [0.99990004],\n",
       "        [0.99990004],\n",
       "        [0.99990004],\n",
       "        [0.99990004],\n",
       "        [0.99990004],\n",
       "        [0.99990004],\n",
       "        [0.99990004],\n",
       "        [0.99990004],\n",
       "        [0.        ],\n",
       "        [0.        ],\n",
       "        [0.        ],\n",
       "        [0.        ],\n",
       "        [0.        ],\n",
       "        [0.99990004],\n",
       "        [0.99990004],\n",
       "        [0.99990004],\n",
       "        [0.99990004],\n",
       "        [0.99990004],\n",
       "        [0.99990004]],\n",
       "\n",
       "       [[0.        ],\n",
       "        [0.        ],\n",
       "        [0.        ],\n",
       "        [0.        ],\n",
       "        [0.        ],\n",
       "        [0.99990004],\n",
       "        [0.99990004],\n",
       "        [0.99990004],\n",
       "        [0.99990004],\n",
       "        [0.99990004],\n",
       "        [0.99990004],\n",
       "        [0.99990004],\n",
       "        [0.99990004],\n",
       "        [0.99990004],\n",
       "        [0.99990004],\n",
       "        [0.99990004],\n",
       "        [0.99990004],\n",
       "        [0.99990004],\n",
       "        [0.99990004],\n",
       "        [0.99990004],\n",
       "        [0.99990004],\n",
       "        [0.99990004],\n",
       "        [0.99990004],\n",
       "        [0.99990004],\n",
       "        [0.99990004],\n",
       "        [0.99990004],\n",
       "        [0.99990004],\n",
       "        [0.99990004]],\n",
       "\n",
       "       [[0.99990004],\n",
       "        [0.        ],\n",
       "        [0.        ],\n",
       "        [0.        ],\n",
       "        [0.99990004],\n",
       "        [0.99990004],\n",
       "        [0.99990004],\n",
       "        [0.99990004],\n",
       "        [0.99990004],\n",
       "        [0.99990004],\n",
       "        [0.99990004],\n",
       "        [0.99990004],\n",
       "        [0.99990004],\n",
       "        [0.99990004],\n",
       "        [0.99990004],\n",
       "        [0.99990004],\n",
       "        [0.99990004],\n",
       "        [0.99990004],\n",
       "        [0.99990004],\n",
       "        [0.99990004],\n",
       "        [0.99990004],\n",
       "        [0.99990004],\n",
       "        [0.99990004],\n",
       "        [0.99990004],\n",
       "        [0.99990004],\n",
       "        [0.99990004],\n",
       "        [0.99990004],\n",
       "        [0.99990004]],\n",
       "\n",
       "       [[0.99990004],\n",
       "        [0.99990004],\n",
       "        [0.99990004],\n",
       "        [0.99990004],\n",
       "        [0.99990004],\n",
       "        [0.99990004],\n",
       "        [0.99990004],\n",
       "        [0.99990004],\n",
       "        [0.99990004],\n",
       "        [0.99990004],\n",
       "        [0.99990004],\n",
       "        [0.99990004],\n",
       "        [0.99990004],\n",
       "        [0.99990004],\n",
       "        [0.99990004],\n",
       "        [0.99990004],\n",
       "        [0.99990004],\n",
       "        [0.99990004],\n",
       "        [0.99990004],\n",
       "        [0.99990004],\n",
       "        [0.99990004],\n",
       "        [0.99990004],\n",
       "        [0.99990004],\n",
       "        [0.99990004],\n",
       "        [0.99990004],\n",
       "        [0.99990004],\n",
       "        [0.99990004],\n",
       "        [0.99990004]],\n",
       "\n",
       "       [[0.99990004],\n",
       "        [0.99990004],\n",
       "        [0.99990004],\n",
       "        [0.99990004],\n",
       "        [0.99990004],\n",
       "        [0.99990004],\n",
       "        [0.99990004],\n",
       "        [0.99990004],\n",
       "        [0.99990004],\n",
       "        [0.99990004],\n",
       "        [0.99990004],\n",
       "        [0.99990004],\n",
       "        [0.99990004],\n",
       "        [0.99990004],\n",
       "        [0.99990004],\n",
       "        [0.99990004],\n",
       "        [0.99990004],\n",
       "        [0.99990004],\n",
       "        [0.99990004],\n",
       "        [0.99990004],\n",
       "        [0.99990004],\n",
       "        [0.99990004],\n",
       "        [0.99990004],\n",
       "        [0.99990004],\n",
       "        [0.99990004],\n",
       "        [0.99990004],\n",
       "        [0.99990004],\n",
       "        [0.99990004]],\n",
       "\n",
       "       [[0.99990004],\n",
       "        [0.99990004],\n",
       "        [0.99990004],\n",
       "        [0.99990004],\n",
       "        [0.99990004],\n",
       "        [0.99990004],\n",
       "        [0.99990004],\n",
       "        [0.99990004],\n",
       "        [0.99990004],\n",
       "        [0.99990004],\n",
       "        [0.99990004],\n",
       "        [0.99990004],\n",
       "        [0.99990004],\n",
       "        [0.99990004],\n",
       "        [0.99990004],\n",
       "        [0.99990004],\n",
       "        [0.99990004],\n",
       "        [0.99990004],\n",
       "        [0.99990004],\n",
       "        [0.99990004],\n",
       "        [0.99990004],\n",
       "        [0.99990004],\n",
       "        [0.99990004],\n",
       "        [0.99990004],\n",
       "        [0.99990004],\n",
       "        [0.99990004],\n",
       "        [0.99990004],\n",
       "        [0.99990004]],\n",
       "\n",
       "       [[0.99990004],\n",
       "        [0.99990004],\n",
       "        [0.99990004],\n",
       "        [0.99990004],\n",
       "        [0.99990004],\n",
       "        [0.99990004],\n",
       "        [0.99990004],\n",
       "        [0.99990004],\n",
       "        [0.99990004],\n",
       "        [0.99990004],\n",
       "        [0.99990004],\n",
       "        [0.99990004],\n",
       "        [0.99990004],\n",
       "        [0.99990004],\n",
       "        [0.99990004],\n",
       "        [0.99990004],\n",
       "        [0.99990004],\n",
       "        [0.99990004],\n",
       "        [0.99990004],\n",
       "        [0.99990004],\n",
       "        [0.99990004],\n",
       "        [0.99990004],\n",
       "        [0.99990004],\n",
       "        [0.99990004],\n",
       "        [0.99990004],\n",
       "        [0.99990004],\n",
       "        [0.99990004],\n",
       "        [0.99990004]],\n",
       "\n",
       "       [[0.99990004],\n",
       "        [0.99990004],\n",
       "        [0.99990004],\n",
       "        [0.99990004],\n",
       "        [0.99990004],\n",
       "        [0.99990004],\n",
       "        [0.99990004],\n",
       "        [0.99990004],\n",
       "        [0.99990004],\n",
       "        [0.99990004],\n",
       "        [0.99990004],\n",
       "        [0.99990004],\n",
       "        [0.99990004],\n",
       "        [0.99990004],\n",
       "        [0.99990004],\n",
       "        [0.99990004],\n",
       "        [0.99990004],\n",
       "        [0.99990004],\n",
       "        [0.99990004],\n",
       "        [0.99990004],\n",
       "        [0.99990004],\n",
       "        [0.99990004],\n",
       "        [0.99990004],\n",
       "        [0.99990004],\n",
       "        [0.99990004],\n",
       "        [0.99990004],\n",
       "        [0.99990004],\n",
       "        [0.99990004]],\n",
       "\n",
       "       [[0.99990004],\n",
       "        [0.99990004],\n",
       "        [0.99990004],\n",
       "        [0.99990004],\n",
       "        [0.99990004],\n",
       "        [0.99990004],\n",
       "        [0.99990004],\n",
       "        [0.99990004],\n",
       "        [0.99990004],\n",
       "        [0.99990004],\n",
       "        [0.99990004],\n",
       "        [0.99990004],\n",
       "        [0.99990004],\n",
       "        [0.99990004],\n",
       "        [0.99990004],\n",
       "        [0.99990004],\n",
       "        [0.99990004],\n",
       "        [0.99990004],\n",
       "        [0.99990004],\n",
       "        [0.99990004],\n",
       "        [0.99990004],\n",
       "        [0.99990004],\n",
       "        [0.99990004],\n",
       "        [0.99990004],\n",
       "        [0.99990004],\n",
       "        [0.99990004],\n",
       "        [0.99990004],\n",
       "        [0.99990004]],\n",
       "\n",
       "       [[0.99990004],\n",
       "        [0.99990004],\n",
       "        [0.99990004],\n",
       "        [0.99990004],\n",
       "        [0.99990004],\n",
       "        [0.99990004],\n",
       "        [0.99990004],\n",
       "        [0.99990004],\n",
       "        [0.99990004],\n",
       "        [0.99990004],\n",
       "        [0.99990004],\n",
       "        [0.99990004],\n",
       "        [0.99990004],\n",
       "        [0.99990004],\n",
       "        [0.99990004],\n",
       "        [0.99990004],\n",
       "        [0.99990004],\n",
       "        [0.99990004],\n",
       "        [0.99990004],\n",
       "        [0.99990004],\n",
       "        [0.99990004],\n",
       "        [0.99990004],\n",
       "        [0.99990004],\n",
       "        [0.99990004],\n",
       "        [0.99990004],\n",
       "        [0.99990004],\n",
       "        [0.99990004],\n",
       "        [0.99990004]],\n",
       "\n",
       "       [[0.99990004],\n",
       "        [0.99990004],\n",
       "        [0.99990004],\n",
       "        [0.99990004],\n",
       "        [0.99990004],\n",
       "        [0.99990004],\n",
       "        [0.99990004],\n",
       "        [0.99990004],\n",
       "        [0.99990004],\n",
       "        [0.99990004],\n",
       "        [0.99990004],\n",
       "        [0.99990004],\n",
       "        [0.99990004],\n",
       "        [0.99990004],\n",
       "        [0.99990004],\n",
       "        [0.99990004],\n",
       "        [0.99990004],\n",
       "        [0.99990004],\n",
       "        [0.99990004],\n",
       "        [0.99990004],\n",
       "        [0.99990004],\n",
       "        [0.99990004],\n",
       "        [0.99990004],\n",
       "        [0.99990004],\n",
       "        [0.99990004],\n",
       "        [0.99990004],\n",
       "        [0.99990004],\n",
       "        [0.99990004]],\n",
       "\n",
       "       [[0.99990004],\n",
       "        [0.99990004],\n",
       "        [0.99990004],\n",
       "        [0.99990004],\n",
       "        [0.99990004],\n",
       "        [0.99990004],\n",
       "        [0.99990004],\n",
       "        [0.99990004],\n",
       "        [0.99990004],\n",
       "        [0.99990004],\n",
       "        [0.99990004],\n",
       "        [0.99990004],\n",
       "        [0.99990004],\n",
       "        [0.99990004],\n",
       "        [0.99990004],\n",
       "        [0.99990004],\n",
       "        [0.99990004],\n",
       "        [0.99990004],\n",
       "        [0.99990004],\n",
       "        [0.99990004],\n",
       "        [0.99990004],\n",
       "        [0.99990004],\n",
       "        [0.99990004],\n",
       "        [0.99990004],\n",
       "        [0.99990004],\n",
       "        [0.99990004],\n",
       "        [0.99990004],\n",
       "        [0.99990004]]], dtype=float32)"
      ]
     },
     "execution_count": 22,
     "metadata": {},
     "output_type": "execute_result"
    }
   ],
   "source": [
    "image_28_grey_np"
   ]
  },
  {
   "cell_type": "markdown",
   "id": "dfbc3c94",
   "metadata": {},
   "source": [
    "# Create image coordinates data.\n",
    "- E.g. create the coordintes(x,y) array for the black point in img_inverted"
   ]
  },
  {
   "cell_type": "code",
   "execution_count": 31,
   "id": "92ad6c9d",
   "metadata": {},
   "outputs": [
    {
     "data": {
      "text/plain": [
       "array([[ 9, 19],\n",
       "       [ 9, 20],\n",
       "       [ 9, 21],\n",
       "       [10, 18],\n",
       "       [10, 19],\n",
       "       [10, 20],\n",
       "       [10, 21],\n",
       "       [10, 22],\n",
       "       [11,  1],\n",
       "       [11,  2]])"
      ]
     },
     "execution_count": 31,
     "metadata": {},
     "output_type": "execute_result"
    }
   ],
   "source": [
    "coors =[]\n",
    "for index, value in np.ndenumerate(image_28_grey_np):\n",
    "    point = []\n",
    "    if value == 0:\n",
    "        point.append(index[0])\n",
    "        point.append(index[1])\n",
    "        coors.append(point)\n",
    "        \n",
    "coors = np.array(coors)\n",
    "coors[:10]"
   ]
  },
  {
   "cell_type": "code",
   "execution_count": 32,
   "id": "cb5f74ed",
   "metadata": {},
   "outputs": [
    {
     "data": {
      "image/png": "[encoded data removed]",
      "text/plain": [
       "<Figure size 432x288 with 1 Axes>"
      ]
     },
     "metadata": {
      "needs_background": "light"
     },
     "output_type": "display_data"
    }
   ],
   "source": [
    "# Plot the coors\n",
    "plt.scatter(coors[:, 0], coors[:, 1], s=100, cmap=\"bwr\");\n",
    "plt.show()"
   ]
  },
  {
   "cell_type": "markdown",
   "id": "7737897f",
   "metadata": {},
   "source": [
    "# Use SVC model to predict\n",
    "- that is, to divide the image\n",
    "- The \"0\" in predictions represents one image\n",
    "- The \"1\" in predictions represents another image"
   ]
  },
  {
   "cell_type": "code",
   "execution_count": 35,
   "id": "603033c0",
   "metadata": {},
   "outputs": [
    {
     "data": {
      "text/plain": [
       "array([0, 0, 0, 0, 0, 0, 0, 0, 1, 1, 1, 0, 0, 0, 1, 1, 1, 0, 0, 0, 1, 1,\n",
       "       1, 1, 0, 0, 0, 0, 0, 1, 1, 1, 0, 0, 1, 1, 1, 0, 0, 0, 0, 1, 1, 1,\n",
       "       0, 0, 0, 0, 0, 1, 1, 1, 1, 1, 1, 1, 1])"
      ]
     },
     "execution_count": 35,
     "metadata": {},
     "output_type": "execute_result"
    }
   ],
   "source": [
    "predictions = svc_model.predict(coors)\n",
    "predictions"
   ]
  },
  {
   "cell_type": "markdown",
   "id": "ef402f27",
   "metadata": {},
   "source": [
    "# Divid image based on predictions"
   ]
  },
  {
   "cell_type": "markdown",
   "id": "b89d09df",
   "metadata": {},
   "source": [
    "### Create the first image for \"0\" in predictions\n",
    "### Create the second image for \"1\" in predictions"
   ]
  },
  {
   "cell_type": "code",
   "execution_count": 43,
   "id": "307a8396",
   "metadata": {},
   "outputs": [],
   "source": [
    "imgA = []\n",
    "imgB = []\n",
    "for index, value in np.ndenumerate(predictions):\n",
    "    if value == 0:\n",
    "        imgA.append(coors[index[0]])\n",
    "    else:\n",
    "        imgB.append(coors[index[0]])\n",
    "\n",
    "# Transfer list into numpy array\n",
    "imgA = np.array(imgA)\n",
    "imgB = np.array(imgB)"
   ]
  },
  {
   "cell_type": "code",
   "execution_count": 44,
   "id": "21d26854",
   "metadata": {},
   "outputs": [
    {
     "data": {
      "image/png": "[encoded data removed]",
      "text/plain": [
       "<Figure size 432x288 with 1 Axes>"
      ]
     },
     "metadata": {
      "needs_background": "light"
     },
     "output_type": "display_data"
    }
   ],
   "source": [
    "# Show the first image\n",
    "plt.scatter(imgA[:, 0], imgA[:, 1], s=100, cmap=\"bwr\");\n",
    "plt.show()"
   ]
  },
  {
   "cell_type": "code",
   "execution_count": 45,
   "id": "5c42c26f",
   "metadata": {},
   "outputs": [
    {
     "data": {
      "image/png": "[encoded data removed]",
      "text/plain": [
       "<Figure size 432x288 with 1 Axes>"
      ]
     },
     "metadata": {
      "needs_background": "light"
     },
     "output_type": "display_data"
    }
   ],
   "source": [
    "# Show the second image\n",
    "plt.scatter(imgB[:, 0], imgB[:, 1], s=100, cmap=\"bwr\");\n",
    "plt.show()"
   ]
  },
  {
   "cell_type": "markdown",
   "id": "20ca6bc9",
   "metadata": {},
   "source": [
    "# Resize imgA and imgB to size 28x28"
   ]
  },
  {
   "cell_type": "code",
   "execution_count": 46,
   "id": "91956c22",
   "metadata": {},
   "outputs": [],
   "source": [
    "imgA_28 = np.zeros(shape=(28, 28))\n",
    "imgB_28 = np.zeros(shape=(28, 28))\n",
    "for v in imgA:\n",
    "    imgA_28[v[0], v[1]] = 1\n",
    "\n",
    "for v in imgB:\n",
    "    imgB_28[v[0], v[1]] = 1"
   ]
  },
  {
   "cell_type": "code",
   "execution_count": 49,
   "id": "1eeeb3ac",
   "metadata": {},
   "outputs": [
    {
     "data": {
      "image/png": "[encoded data removed]",
      "text/plain": [
       "<Figure size 432x288 with 1 Axes>"
      ]
     },
     "metadata": {
      "needs_background": "light"
     },
     "output_type": "display_data"
    }
   ],
   "source": [
    "# Show imgA and imgB\n",
    "plt.imshow(imgA_28, cmap=plt.cm.Greys)\n",
    "plt.show()"
   ]
  },
  {
   "cell_type": "code",
   "execution_count": 48,
   "id": "4080f542",
   "metadata": {},
   "outputs": [
    {
     "data": {
      "image/png": "[encoded data removed]",
      "text/plain": [
       "<Figure size 432x288 with 1 Axes>"
      ]
     },
     "metadata": {
      "needs_background": "light"
     },
     "output_type": "display_data"
    }
   ],
   "source": [
    "plt.imshow(imgB_28, cmap=plt.cm.Greys)\n",
    "plt.show()"
   ]
  },
  {
   "cell_type": "markdown",
   "id": "978359f3",
   "metadata": {},
   "source": [
    "# Next step: Center the image"
   ]
  },
  {
   "cell_type": "code",
   "execution_count": 51,
   "id": "63af4d48",
   "metadata": {},
   "outputs": [
    {
     "data": {
      "text/plain": [
       "numpy.ndarray"
      ]
     },
     "execution_count": 51,
     "metadata": {},
     "output_type": "execute_result"
    }
   ],
   "source": [
    "type(imgA_28)"
   ]
  },
  {
   "cell_type": "markdown",
   "id": "0e3dad3b",
   "metadata": {},
   "source": [
    "# Question: how to transfer the above images to base64 or dataURL format"
   ]
  },
  {
   "cell_type": "code",
   "execution_count": null,
   "id": "0d9a334c",
   "metadata": {},
   "outputs": [],
   "source": []
  }
 ],
 "metadata": {
  "kernelspec": {
   "display_name": "Python 3",
   "language": "python",
   "name": "python3"
  },
  "language_info": {
   "codemirror_mode": {
    "name": "ipython",
    "version": 3
   },
   "file_extension": ".py",
   "mimetype": "text/x-python",
   "name": "python",
   "nbconvert_exporter": "python",
   "pygments_lexer": "ipython3",
   "version": "3.6.13"
  }
 },
 "nbformat": 4,
 "nbformat_minor": 5
}
